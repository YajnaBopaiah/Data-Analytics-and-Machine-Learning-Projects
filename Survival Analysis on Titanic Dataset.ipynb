{
 "cells": [
  {
   "cell_type": "markdown",
   "id": "194bb3bf",
   "metadata": {},
   "source": [
    "# <u> Survival Analysis On Titanic Dataset.<u>"
   ]
  },
  {
   "cell_type": "markdown",
   "id": "32612066",
   "metadata": {},
   "source": [
    "*The sinking of the Titanic is one of the most infamous shipwrecks in history.*\n",
    "\n",
    "*This is a dataset where On April 15, 1912, during her maiden voyage, the widely considered “unsinkable” RMS Titanic sank after colliding with an iceberg. Unfortunately, there weren’t enough lifeboats for everyone onboard, resulting in the death of 1502 out of 2224 passengers and crew.*\n",
    "\n",
    "*While there was some element of luck involved in surviving, it seems some groups of people were more likely to survive than others.*\n",
    "\n",
    "***The Attributes of the dataset are as follows :***   \n",
    "- *Survived - Survival (0 = No, 1 = Yes)*\n",
    "- *pclass - A proxy for socio-economic status (1st = Upper, 2nd = Middle, 3rd = Lower)*\n",
    "- *Name - Names of the passangers on board*\n",
    "- *sex - Gender of the passangers on board (0 = Male, 1 = Female)*\n",
    "- *Age - Age of the passangers on board*\n",
    "- *sibsp - Number of sibblings/sprouse on board* \n",
    "    - *The dataset defines family relations in this way...*\n",
    "    - *Sibling = brother, sister, stepbrother, stepsister*\n",
    "    - *Spouse = husband, wife (mistresses and fiancés were ignored)*\n",
    "- *Parch - Number of parents/children on board*\n",
    "       -* The dataset defines family relations in this way...*\n",
    "       -* Parent = mother, father*\n",
    "       -* Child = daughter, son, stepdaughter, stepson*\n",
    "       -* Some children travelled only with a nanny, therefore parch=0 for them.*\n",
    "- *Ticket - Ticket Number* \n",
    "- *Fare - Passanger fare*\n",
    "- *Cabin - Cabin Number*\n",
    "- *Embarked - Port of Embarkation (C = Cherbourg, Q = Queenstown, S = Southampton)* \n",
    " "
   ]
  },
  {
   "cell_type": "markdown",
   "id": "6f83d141",
   "metadata": {},
   "source": [
    "## <u> Problem Statement: <u>\n",
    "#### ***To build a predictive model that answers the question: “what sorts of people were more likely to survive?” using passenger data (ie name, age, gender, socio-economic class, etc).***"
   ]
  },
  {
   "cell_type": "markdown",
   "id": "4373033c",
   "metadata": {},
   "source": [
    "## <u>Process involved in the process:<u>\n",
    "- ***i).Big Picture***\n",
    "- ***ii).Data Analysis and Exploration***\n",
    "- ***iii).Feature Engineering***\n",
    "- ***iv).Model Building***\n",
    "- ***v).Interpretation***"
   ]
  },
  {
   "cell_type": "code",
   "execution_count": 1,
   "id": "0db3be16",
   "metadata": {},
   "outputs": [],
   "source": [
    "import pandas as pd\n",
    "import numpy as np\n",
    "import seaborn as sns\n",
    "import matplotlib.pyplot as plt\n",
    "import missingno as mp\n",
    "from matplotlib import colors\n",
    "import statsmodels.api as sm\n",
    "import pylab as py\n",
    "from sklearn.preprocessing import StandardScaler\n",
    "from imblearn.over_sampling import SMOTE\n",
    "from scipy.stats import probplot\n",
    "from sklearn.model_selection import train_test_split, cross_val_score\n",
    "from sklearn.linear_model import LogisticRegression\n",
    "from sklearn.metrics import classification_report, confusion_matrix\n",
    "from collections import Counter\n",
    "from sklearn.neighbors import KNeighborsClassifier\n",
    "import klib\n",
    "from sklearn.svm import SVC\n",
    "from sklearn.model_selection import GridSearchCV\n",
    "#from lazypredict.Supervised import LazyClassifier\n",
    "import warnings\n",
    "from sklearn.model_selection import RandomizedSearchCV\n",
    "import sklearn.metrics\n",
    "from sklearn.ensemble import AdaBoostClassifier\n",
    "%matplotlib inline\n",
    "warnings.filterwarnings('ignore')"
   ]
  },
  {
   "cell_type": "code",
   "execution_count": 2,
   "id": "159c04d2",
   "metadata": {},
   "outputs": [],
   "source": [
    "path = r\"C:\\Users\\User\\Documents\\DATA SCIENCE PROJECTS\\Titanic.csv\"\n",
    "train_data = pd.read_csv(path)\n",
    "data2 = train_data\n",
    "\n",
    "# Reading the test data\n",
    "path2 = r\"C:\\Users\\User\\Documents\\DATA SCIENCE PROJECTS\\test.csv\"\n",
    "test_data = pd.read_csv(path2)\n",
    "data3 = test_data"
   ]
  },
  {
   "cell_type": "code",
   "execution_count": 3,
   "id": "fd3806fb",
   "metadata": {},
   "outputs": [
    {
     "data": {
      "text/html": [
       "<div>\n",
       "<style scoped>\n",
       "    .dataframe tbody tr th:only-of-type {\n",
       "        vertical-align: middle;\n",
       "    }\n",
       "\n",
       "    .dataframe tbody tr th {\n",
       "        vertical-align: top;\n",
       "    }\n",
       "\n",
       "    .dataframe thead th {\n",
       "        text-align: right;\n",
       "    }\n",
       "</style>\n",
       "<table border=\"1\" class=\"dataframe\">\n",
       "  <thead>\n",
       "    <tr style=\"text-align: right;\">\n",
       "      <th></th>\n",
       "      <th>PassengerId</th>\n",
       "      <th>Survived</th>\n",
       "      <th>Pclass</th>\n",
       "      <th>Name</th>\n",
       "      <th>Sex</th>\n",
       "      <th>Age</th>\n",
       "      <th>SibSp</th>\n",
       "      <th>Parch</th>\n",
       "      <th>Ticket</th>\n",
       "      <th>Fare</th>\n",
       "      <th>Cabin</th>\n",
       "      <th>Embarked</th>\n",
       "    </tr>\n",
       "  </thead>\n",
       "  <tbody>\n",
       "    <tr>\n",
       "      <th>0</th>\n",
       "      <td>1</td>\n",
       "      <td>0</td>\n",
       "      <td>3</td>\n",
       "      <td>Braund, Mr. Owen Harris</td>\n",
       "      <td>male</td>\n",
       "      <td>22.0</td>\n",
       "      <td>1</td>\n",
       "      <td>0</td>\n",
       "      <td>A/5 21171</td>\n",
       "      <td>7.2500</td>\n",
       "      <td>NaN</td>\n",
       "      <td>S</td>\n",
       "    </tr>\n",
       "    <tr>\n",
       "      <th>1</th>\n",
       "      <td>2</td>\n",
       "      <td>1</td>\n",
       "      <td>1</td>\n",
       "      <td>Cumings, Mrs. John Bradley (Florence Briggs Th...</td>\n",
       "      <td>female</td>\n",
       "      <td>38.0</td>\n",
       "      <td>1</td>\n",
       "      <td>0</td>\n",
       "      <td>PC 17599</td>\n",
       "      <td>71.2833</td>\n",
       "      <td>C85</td>\n",
       "      <td>C</td>\n",
       "    </tr>\n",
       "    <tr>\n",
       "      <th>2</th>\n",
       "      <td>3</td>\n",
       "      <td>1</td>\n",
       "      <td>3</td>\n",
       "      <td>Heikkinen, Miss. Laina</td>\n",
       "      <td>female</td>\n",
       "      <td>26.0</td>\n",
       "      <td>0</td>\n",
       "      <td>0</td>\n",
       "      <td>STON/O2. 3101282</td>\n",
       "      <td>7.9250</td>\n",
       "      <td>NaN</td>\n",
       "      <td>S</td>\n",
       "    </tr>\n",
       "    <tr>\n",
       "      <th>3</th>\n",
       "      <td>4</td>\n",
       "      <td>1</td>\n",
       "      <td>1</td>\n",
       "      <td>Futrelle, Mrs. Jacques Heath (Lily May Peel)</td>\n",
       "      <td>female</td>\n",
       "      <td>35.0</td>\n",
       "      <td>1</td>\n",
       "      <td>0</td>\n",
       "      <td>113803</td>\n",
       "      <td>53.1000</td>\n",
       "      <td>C123</td>\n",
       "      <td>S</td>\n",
       "    </tr>\n",
       "    <tr>\n",
       "      <th>4</th>\n",
       "      <td>5</td>\n",
       "      <td>0</td>\n",
       "      <td>3</td>\n",
       "      <td>Allen, Mr. William Henry</td>\n",
       "      <td>male</td>\n",
       "      <td>35.0</td>\n",
       "      <td>0</td>\n",
       "      <td>0</td>\n",
       "      <td>373450</td>\n",
       "      <td>8.0500</td>\n",
       "      <td>NaN</td>\n",
       "      <td>S</td>\n",
       "    </tr>\n",
       "  </tbody>\n",
       "</table>\n",
       "</div>"
      ],
      "text/plain": [
       "   PassengerId  Survived  Pclass  \\\n",
       "0            1         0       3   \n",
       "1            2         1       1   \n",
       "2            3         1       3   \n",
       "3            4         1       1   \n",
       "4            5         0       3   \n",
       "\n",
       "                                                Name     Sex   Age  SibSp  \\\n",
       "0                            Braund, Mr. Owen Harris    male  22.0      1   \n",
       "1  Cumings, Mrs. John Bradley (Florence Briggs Th...  female  38.0      1   \n",
       "2                             Heikkinen, Miss. Laina  female  26.0      0   \n",
       "3       Futrelle, Mrs. Jacques Heath (Lily May Peel)  female  35.0      1   \n",
       "4                           Allen, Mr. William Henry    male  35.0      0   \n",
       "\n",
       "   Parch            Ticket     Fare Cabin Embarked  \n",
       "0      0         A/5 21171   7.2500   NaN        S  \n",
       "1      0          PC 17599  71.2833   C85        C  \n",
       "2      0  STON/O2. 3101282   7.9250   NaN        S  \n",
       "3      0            113803  53.1000  C123        S  \n",
       "4      0            373450   8.0500   NaN        S  "
      ]
     },
     "execution_count": 3,
     "metadata": {},
     "output_type": "execute_result"
    }
   ],
   "source": [
    "train_data.head()"
   ]
  },
  {
   "cell_type": "code",
   "execution_count": 4,
   "id": "360c1c67",
   "metadata": {},
   "outputs": [
    {
     "data": {
      "text/html": [
       "<div>\n",
       "<style scoped>\n",
       "    .dataframe tbody tr th:only-of-type {\n",
       "        vertical-align: middle;\n",
       "    }\n",
       "\n",
       "    .dataframe tbody tr th {\n",
       "        vertical-align: top;\n",
       "    }\n",
       "\n",
       "    .dataframe thead th {\n",
       "        text-align: right;\n",
       "    }\n",
       "</style>\n",
       "<table border=\"1\" class=\"dataframe\">\n",
       "  <thead>\n",
       "    <tr style=\"text-align: right;\">\n",
       "      <th></th>\n",
       "      <th>PassengerId</th>\n",
       "      <th>Pclass</th>\n",
       "      <th>Name</th>\n",
       "      <th>Sex</th>\n",
       "      <th>Age</th>\n",
       "      <th>SibSp</th>\n",
       "      <th>Parch</th>\n",
       "      <th>Ticket</th>\n",
       "      <th>Fare</th>\n",
       "      <th>Cabin</th>\n",
       "      <th>Embarked</th>\n",
       "    </tr>\n",
       "  </thead>\n",
       "  <tbody>\n",
       "    <tr>\n",
       "      <th>0</th>\n",
       "      <td>892</td>\n",
       "      <td>3</td>\n",
       "      <td>Kelly, Mr. James</td>\n",
       "      <td>male</td>\n",
       "      <td>34.5</td>\n",
       "      <td>0</td>\n",
       "      <td>0</td>\n",
       "      <td>330911</td>\n",
       "      <td>7.8292</td>\n",
       "      <td>NaN</td>\n",
       "      <td>Q</td>\n",
       "    </tr>\n",
       "    <tr>\n",
       "      <th>1</th>\n",
       "      <td>893</td>\n",
       "      <td>3</td>\n",
       "      <td>Wilkes, Mrs. James (Ellen Needs)</td>\n",
       "      <td>female</td>\n",
       "      <td>47.0</td>\n",
       "      <td>1</td>\n",
       "      <td>0</td>\n",
       "      <td>363272</td>\n",
       "      <td>7.0000</td>\n",
       "      <td>NaN</td>\n",
       "      <td>S</td>\n",
       "    </tr>\n",
       "    <tr>\n",
       "      <th>2</th>\n",
       "      <td>894</td>\n",
       "      <td>2</td>\n",
       "      <td>Myles, Mr. Thomas Francis</td>\n",
       "      <td>male</td>\n",
       "      <td>62.0</td>\n",
       "      <td>0</td>\n",
       "      <td>0</td>\n",
       "      <td>240276</td>\n",
       "      <td>9.6875</td>\n",
       "      <td>NaN</td>\n",
       "      <td>Q</td>\n",
       "    </tr>\n",
       "    <tr>\n",
       "      <th>3</th>\n",
       "      <td>895</td>\n",
       "      <td>3</td>\n",
       "      <td>Wirz, Mr. Albert</td>\n",
       "      <td>male</td>\n",
       "      <td>27.0</td>\n",
       "      <td>0</td>\n",
       "      <td>0</td>\n",
       "      <td>315154</td>\n",
       "      <td>8.6625</td>\n",
       "      <td>NaN</td>\n",
       "      <td>S</td>\n",
       "    </tr>\n",
       "    <tr>\n",
       "      <th>4</th>\n",
       "      <td>896</td>\n",
       "      <td>3</td>\n",
       "      <td>Hirvonen, Mrs. Alexander (Helga E Lindqvist)</td>\n",
       "      <td>female</td>\n",
       "      <td>22.0</td>\n",
       "      <td>1</td>\n",
       "      <td>1</td>\n",
       "      <td>3101298</td>\n",
       "      <td>12.2875</td>\n",
       "      <td>NaN</td>\n",
       "      <td>S</td>\n",
       "    </tr>\n",
       "  </tbody>\n",
       "</table>\n",
       "</div>"
      ],
      "text/plain": [
       "   PassengerId  Pclass                                          Name     Sex  \\\n",
       "0          892       3                              Kelly, Mr. James    male   \n",
       "1          893       3              Wilkes, Mrs. James (Ellen Needs)  female   \n",
       "2          894       2                     Myles, Mr. Thomas Francis    male   \n",
       "3          895       3                              Wirz, Mr. Albert    male   \n",
       "4          896       3  Hirvonen, Mrs. Alexander (Helga E Lindqvist)  female   \n",
       "\n",
       "    Age  SibSp  Parch   Ticket     Fare Cabin Embarked  \n",
       "0  34.5      0      0   330911   7.8292   NaN        Q  \n",
       "1  47.0      1      0   363272   7.0000   NaN        S  \n",
       "2  62.0      0      0   240276   9.6875   NaN        Q  \n",
       "3  27.0      0      0   315154   8.6625   NaN        S  \n",
       "4  22.0      1      1  3101298  12.2875   NaN        S  "
      ]
     },
     "execution_count": 4,
     "metadata": {},
     "output_type": "execute_result"
    }
   ],
   "source": [
    "test_data.head()"
   ]
  },
  {
   "cell_type": "markdown",
   "id": "a7fa7569",
   "metadata": {},
   "source": [
    "## 1). Big Picture:"
   ]
  },
  {
   "cell_type": "markdown",
   "id": "7e79dbfd",
   "metadata": {},
   "source": [
    "### *i).Determining the Structure and Summary of the dataset:*"
   ]
  },
  {
   "cell_type": "code",
   "execution_count": 5,
   "id": "780b8119",
   "metadata": {},
   "outputs": [
    {
     "data": {
      "text/html": [
       "<div>\n",
       "<style scoped>\n",
       "    .dataframe tbody tr th:only-of-type {\n",
       "        vertical-align: middle;\n",
       "    }\n",
       "\n",
       "    .dataframe tbody tr th {\n",
       "        vertical-align: top;\n",
       "    }\n",
       "\n",
       "    .dataframe thead th {\n",
       "        text-align: right;\n",
       "    }\n",
       "</style>\n",
       "<table border=\"1\" class=\"dataframe\">\n",
       "  <thead>\n",
       "    <tr style=\"text-align: right;\">\n",
       "      <th></th>\n",
       "      <th>PassengerId</th>\n",
       "      <th>Survived</th>\n",
       "      <th>Pclass</th>\n",
       "      <th>Age</th>\n",
       "      <th>SibSp</th>\n",
       "      <th>Parch</th>\n",
       "      <th>Fare</th>\n",
       "    </tr>\n",
       "  </thead>\n",
       "  <tbody>\n",
       "    <tr>\n",
       "      <th>count</th>\n",
       "      <td>891.00</td>\n",
       "      <td>891.00</td>\n",
       "      <td>891.00</td>\n",
       "      <td>714.00</td>\n",
       "      <td>891.00</td>\n",
       "      <td>891.00</td>\n",
       "      <td>891.00</td>\n",
       "    </tr>\n",
       "    <tr>\n",
       "      <th>mean</th>\n",
       "      <td>446.00</td>\n",
       "      <td>0.38</td>\n",
       "      <td>2.31</td>\n",
       "      <td>29.70</td>\n",
       "      <td>0.52</td>\n",
       "      <td>0.38</td>\n",
       "      <td>32.20</td>\n",
       "    </tr>\n",
       "    <tr>\n",
       "      <th>std</th>\n",
       "      <td>257.35</td>\n",
       "      <td>0.49</td>\n",
       "      <td>0.84</td>\n",
       "      <td>14.53</td>\n",
       "      <td>1.10</td>\n",
       "      <td>0.81</td>\n",
       "      <td>49.69</td>\n",
       "    </tr>\n",
       "    <tr>\n",
       "      <th>min</th>\n",
       "      <td>1.00</td>\n",
       "      <td>0.00</td>\n",
       "      <td>1.00</td>\n",
       "      <td>0.42</td>\n",
       "      <td>0.00</td>\n",
       "      <td>0.00</td>\n",
       "      <td>0.00</td>\n",
       "    </tr>\n",
       "    <tr>\n",
       "      <th>25%</th>\n",
       "      <td>223.50</td>\n",
       "      <td>0.00</td>\n",
       "      <td>2.00</td>\n",
       "      <td>20.12</td>\n",
       "      <td>0.00</td>\n",
       "      <td>0.00</td>\n",
       "      <td>7.91</td>\n",
       "    </tr>\n",
       "    <tr>\n",
       "      <th>50%</th>\n",
       "      <td>446.00</td>\n",
       "      <td>0.00</td>\n",
       "      <td>3.00</td>\n",
       "      <td>28.00</td>\n",
       "      <td>0.00</td>\n",
       "      <td>0.00</td>\n",
       "      <td>14.45</td>\n",
       "    </tr>\n",
       "    <tr>\n",
       "      <th>75%</th>\n",
       "      <td>668.50</td>\n",
       "      <td>1.00</td>\n",
       "      <td>3.00</td>\n",
       "      <td>38.00</td>\n",
       "      <td>1.00</td>\n",
       "      <td>0.00</td>\n",
       "      <td>31.00</td>\n",
       "    </tr>\n",
       "    <tr>\n",
       "      <th>max</th>\n",
       "      <td>891.00</td>\n",
       "      <td>1.00</td>\n",
       "      <td>3.00</td>\n",
       "      <td>80.00</td>\n",
       "      <td>8.00</td>\n",
       "      <td>6.00</td>\n",
       "      <td>512.33</td>\n",
       "    </tr>\n",
       "  </tbody>\n",
       "</table>\n",
       "</div>"
      ],
      "text/plain": [
       "       PassengerId  Survived  Pclass    Age  SibSp  Parch   Fare\n",
       "count       891.00    891.00  891.00 714.00 891.00 891.00 891.00\n",
       "mean        446.00      0.38    2.31  29.70   0.52   0.38  32.20\n",
       "std         257.35      0.49    0.84  14.53   1.10   0.81  49.69\n",
       "min           1.00      0.00    1.00   0.42   0.00   0.00   0.00\n",
       "25%         223.50      0.00    2.00  20.12   0.00   0.00   7.91\n",
       "50%         446.00      0.00    3.00  28.00   0.00   0.00  14.45\n",
       "75%         668.50      1.00    3.00  38.00   1.00   0.00  31.00\n",
       "max         891.00      1.00    3.00  80.00   8.00   6.00 512.33"
      ]
     },
     "execution_count": 5,
     "metadata": {},
     "output_type": "execute_result"
    }
   ],
   "source": [
    "train_data.describe()"
   ]
  },
  {
   "cell_type": "code",
   "execution_count": 6,
   "id": "84ec5a5b",
   "metadata": {},
   "outputs": [
    {
     "data": {
      "text/html": [
       "<div>\n",
       "<style scoped>\n",
       "    .dataframe tbody tr th:only-of-type {\n",
       "        vertical-align: middle;\n",
       "    }\n",
       "\n",
       "    .dataframe tbody tr th {\n",
       "        vertical-align: top;\n",
       "    }\n",
       "\n",
       "    .dataframe thead th {\n",
       "        text-align: right;\n",
       "    }\n",
       "</style>\n",
       "<table border=\"1\" class=\"dataframe\">\n",
       "  <thead>\n",
       "    <tr style=\"text-align: right;\">\n",
       "      <th></th>\n",
       "      <th>PassengerId</th>\n",
       "      <th>Pclass</th>\n",
       "      <th>Age</th>\n",
       "      <th>SibSp</th>\n",
       "      <th>Parch</th>\n",
       "      <th>Fare</th>\n",
       "    </tr>\n",
       "  </thead>\n",
       "  <tbody>\n",
       "    <tr>\n",
       "      <th>count</th>\n",
       "      <td>418.00</td>\n",
       "      <td>418.00</td>\n",
       "      <td>332.00</td>\n",
       "      <td>418.00</td>\n",
       "      <td>418.00</td>\n",
       "      <td>417.00</td>\n",
       "    </tr>\n",
       "    <tr>\n",
       "      <th>mean</th>\n",
       "      <td>1100.50</td>\n",
       "      <td>2.27</td>\n",
       "      <td>30.27</td>\n",
       "      <td>0.45</td>\n",
       "      <td>0.39</td>\n",
       "      <td>35.63</td>\n",
       "    </tr>\n",
       "    <tr>\n",
       "      <th>std</th>\n",
       "      <td>120.81</td>\n",
       "      <td>0.84</td>\n",
       "      <td>14.18</td>\n",
       "      <td>0.90</td>\n",
       "      <td>0.98</td>\n",
       "      <td>55.91</td>\n",
       "    </tr>\n",
       "    <tr>\n",
       "      <th>min</th>\n",
       "      <td>892.00</td>\n",
       "      <td>1.00</td>\n",
       "      <td>0.17</td>\n",
       "      <td>0.00</td>\n",
       "      <td>0.00</td>\n",
       "      <td>0.00</td>\n",
       "    </tr>\n",
       "    <tr>\n",
       "      <th>25%</th>\n",
       "      <td>996.25</td>\n",
       "      <td>1.00</td>\n",
       "      <td>21.00</td>\n",
       "      <td>0.00</td>\n",
       "      <td>0.00</td>\n",
       "      <td>7.90</td>\n",
       "    </tr>\n",
       "    <tr>\n",
       "      <th>50%</th>\n",
       "      <td>1100.50</td>\n",
       "      <td>3.00</td>\n",
       "      <td>27.00</td>\n",
       "      <td>0.00</td>\n",
       "      <td>0.00</td>\n",
       "      <td>14.45</td>\n",
       "    </tr>\n",
       "    <tr>\n",
       "      <th>75%</th>\n",
       "      <td>1204.75</td>\n",
       "      <td>3.00</td>\n",
       "      <td>39.00</td>\n",
       "      <td>1.00</td>\n",
       "      <td>0.00</td>\n",
       "      <td>31.50</td>\n",
       "    </tr>\n",
       "    <tr>\n",
       "      <th>max</th>\n",
       "      <td>1309.00</td>\n",
       "      <td>3.00</td>\n",
       "      <td>76.00</td>\n",
       "      <td>8.00</td>\n",
       "      <td>9.00</td>\n",
       "      <td>512.33</td>\n",
       "    </tr>\n",
       "  </tbody>\n",
       "</table>\n",
       "</div>"
      ],
      "text/plain": [
       "       PassengerId  Pclass    Age  SibSp  Parch   Fare\n",
       "count       418.00  418.00 332.00 418.00 418.00 417.00\n",
       "mean       1100.50    2.27  30.27   0.45   0.39  35.63\n",
       "std         120.81    0.84  14.18   0.90   0.98  55.91\n",
       "min         892.00    1.00   0.17   0.00   0.00   0.00\n",
       "25%         996.25    1.00  21.00   0.00   0.00   7.90\n",
       "50%        1100.50    3.00  27.00   0.00   0.00  14.45\n",
       "75%        1204.75    3.00  39.00   1.00   0.00  31.50\n",
       "max        1309.00    3.00  76.00   8.00   9.00 512.33"
      ]
     },
     "execution_count": 6,
     "metadata": {},
     "output_type": "execute_result"
    }
   ],
   "source": [
    "test_data.describe()"
   ]
  },
  {
   "cell_type": "markdown",
   "id": "7bcaceca",
   "metadata": {},
   "source": [
    "*From the above table, we obtain a very clear picture on the summary of the dataset, i.e The measures of central tendency and dispersion with respect to each variable.*"
   ]
  },
  {
   "cell_type": "markdown",
   "id": "3b8af6e4",
   "metadata": {},
   "source": [
    "### ii). *Determining the unique values:*"
   ]
  },
  {
   "cell_type": "code",
   "execution_count": 7,
   "id": "fdcbd409",
   "metadata": {},
   "outputs": [
    {
     "data": {
      "text/plain": [
       "PassengerId    891\n",
       "Survived         2\n",
       "Pclass           3\n",
       "Name           891\n",
       "Sex              2\n",
       "Age             88\n",
       "SibSp            7\n",
       "Parch            7\n",
       "Ticket         681\n",
       "Fare           248\n",
       "Cabin          147\n",
       "Embarked         3\n",
       "dtype: int64"
      ]
     },
     "execution_count": 7,
     "metadata": {},
     "output_type": "execute_result"
    }
   ],
   "source": [
    "train_data.nunique()"
   ]
  },
  {
   "cell_type": "code",
   "execution_count": 8,
   "id": "456264fb",
   "metadata": {},
   "outputs": [
    {
     "data": {
      "text/plain": [
       "PassengerId    418\n",
       "Pclass           3\n",
       "Name           418\n",
       "Sex              2\n",
       "Age             79\n",
       "SibSp            7\n",
       "Parch            8\n",
       "Ticket         363\n",
       "Fare           169\n",
       "Cabin           76\n",
       "Embarked         3\n",
       "dtype: int64"
      ]
     },
     "execution_count": 8,
     "metadata": {},
     "output_type": "execute_result"
    }
   ],
   "source": [
    "test_data.nunique()"
   ]
  },
  {
   "cell_type": "markdown",
   "id": "90478031",
   "metadata": {},
   "source": [
    "*From the above line of code, we are able to understand that the variables 'PassengerId','Name','Ticket' have too many unique values which is not useful to the subject under study. Therefore we drop these variables from both train and test data.*"
   ]
  },
  {
   "cell_type": "code",
   "execution_count": 5,
   "id": "67896419",
   "metadata": {},
   "outputs": [],
   "source": [
    "train_data = train_data.drop(['PassengerId','Ticket','Name'], axis = 1)\n",
    "test_data = test_data.drop(['PassengerId','Ticket','Name'], axis = 1)"
   ]
  },
  {
   "cell_type": "markdown",
   "id": "b02beffc",
   "metadata": {},
   "source": [
    "### iii). *Determining the number of Categorical variables:*"
   ]
  },
  {
   "cell_type": "code",
   "execution_count": 54,
   "id": "b89474d9",
   "metadata": {},
   "outputs": [
    {
     "name": "stdout",
     "output_type": "stream",
     "text": [
      "The Number of Numerical variables in Train Data : 6\n",
      "The Number of qualitative variables in Train Data: 3\n",
      "The Number of Numerical variables in Test Data: 5\n",
      "The Number of qualitative variables in Test Data: 3\n"
     ]
    }
   ],
   "source": [
    "# categorical varibales of train data\n",
    "cat_count = 0\n",
    "num_count = 0\n",
    "for i in train_data.dtypes:\n",
    "    if i == 'object':\n",
    "        cat_count = cat_count + 1\n",
    "    else:\n",
    "        num_count = num_count + 1\n",
    "\n",
    "print(\"The Number of Numerical variables in Train Data :\",num_count)\n",
    "print(\"The Number of qualitative variables in Train Data:\",cat_count)\n",
    "\n",
    "#categorical variables of test data\n",
    "cat_count = 0\n",
    "num_count = 0\n",
    "for i in test_data.dtypes:\n",
    "    if i == 'object':\n",
    "        cat_count = cat_count + 1\n",
    "    else:\n",
    "        num_count = num_count + 1\n",
    "\n",
    "print(\"The Number of Numerical variables in Test Data:\",num_count)\n",
    "print(\"The Number of qualitative variables in Test Data:\",cat_count)"
   ]
  },
  {
   "cell_type": "markdown",
   "id": "7201ae6c",
   "metadata": {},
   "source": [
    "### iv). *Determining the Structure of Dataset:*"
   ]
  },
  {
   "cell_type": "code",
   "execution_count": 11,
   "id": "d0d00be5",
   "metadata": {},
   "outputs": [
    {
     "name": "stdout",
     "output_type": "stream",
     "text": [
      "<class 'pandas.core.frame.DataFrame'>\n",
      "RangeIndex: 891 entries, 0 to 890\n",
      "Data columns (total 9 columns):\n",
      " #   Column    Non-Null Count  Dtype  \n",
      "---  ------    --------------  -----  \n",
      " 0   Survived  891 non-null    int64  \n",
      " 1   Pclass    891 non-null    int64  \n",
      " 2   Sex       891 non-null    object \n",
      " 3   Age       714 non-null    float64\n",
      " 4   SibSp     891 non-null    int64  \n",
      " 5   Parch     891 non-null    int64  \n",
      " 6   Fare      891 non-null    float64\n",
      " 7   Cabin     204 non-null    object \n",
      " 8   Embarked  889 non-null    object \n",
      "dtypes: float64(2), int64(4), object(3)\n",
      "memory usage: 62.8+ KB\n"
     ]
    }
   ],
   "source": [
    "train_data.info()"
   ]
  },
  {
   "cell_type": "code",
   "execution_count": 12,
   "id": "d8ca8a4a",
   "metadata": {},
   "outputs": [
    {
     "name": "stdout",
     "output_type": "stream",
     "text": [
      "<class 'pandas.core.frame.DataFrame'>\n",
      "RangeIndex: 418 entries, 0 to 417\n",
      "Data columns (total 8 columns):\n",
      " #   Column    Non-Null Count  Dtype  \n",
      "---  ------    --------------  -----  \n",
      " 0   Pclass    418 non-null    int64  \n",
      " 1   Sex       418 non-null    object \n",
      " 2   Age       332 non-null    float64\n",
      " 3   SibSp     418 non-null    int64  \n",
      " 4   Parch     418 non-null    int64  \n",
      " 5   Fare      417 non-null    float64\n",
      " 6   Cabin     91 non-null     object \n",
      " 7   Embarked  418 non-null    object \n",
      "dtypes: float64(2), int64(3), object(3)\n",
      "memory usage: 26.2+ KB\n"
     ]
    }
   ],
   "source": [
    "test_data.info()"
   ]
  },
  {
   "cell_type": "markdown",
   "id": "27552b89",
   "metadata": {},
   "source": [
    "## 2). Data Analysis and Exploration:"
   ]
  },
  {
   "cell_type": "markdown",
   "id": "d6ea6910",
   "metadata": {},
   "source": [
    "### *i). Determining the missing values :* "
   ]
  },
  {
   "cell_type": "code",
   "execution_count": 6,
   "id": "ad1113d6",
   "metadata": {},
   "outputs": [
    {
     "data": {
      "text/html": [
       "<div>\n",
       "<style scoped>\n",
       "    .dataframe tbody tr th:only-of-type {\n",
       "        vertical-align: middle;\n",
       "    }\n",
       "\n",
       "    .dataframe tbody tr th {\n",
       "        vertical-align: top;\n",
       "    }\n",
       "\n",
       "    .dataframe thead th {\n",
       "        text-align: right;\n",
       "    }\n",
       "</style>\n",
       "<table border=\"1\" class=\"dataframe\">\n",
       "  <thead>\n",
       "    <tr style=\"text-align: right;\">\n",
       "      <th></th>\n",
       "      <th>Missing (count)</th>\n",
       "      <th>Missing (%)</th>\n",
       "    </tr>\n",
       "  </thead>\n",
       "  <tbody>\n",
       "    <tr>\n",
       "      <th>Survived</th>\n",
       "      <td>0</td>\n",
       "      <td>0.0</td>\n",
       "    </tr>\n",
       "    <tr>\n",
       "      <th>Pclass</th>\n",
       "      <td>0</td>\n",
       "      <td>0.0</td>\n",
       "    </tr>\n",
       "    <tr>\n",
       "      <th>Sex</th>\n",
       "      <td>0</td>\n",
       "      <td>0.0</td>\n",
       "    </tr>\n",
       "    <tr>\n",
       "      <th>Age</th>\n",
       "      <td>177</td>\n",
       "      <td>19.9</td>\n",
       "    </tr>\n",
       "    <tr>\n",
       "      <th>SibSp</th>\n",
       "      <td>0</td>\n",
       "      <td>0.0</td>\n",
       "    </tr>\n",
       "    <tr>\n",
       "      <th>Parch</th>\n",
       "      <td>0</td>\n",
       "      <td>0.0</td>\n",
       "    </tr>\n",
       "    <tr>\n",
       "      <th>Fare</th>\n",
       "      <td>0</td>\n",
       "      <td>0.0</td>\n",
       "    </tr>\n",
       "    <tr>\n",
       "      <th>Cabin</th>\n",
       "      <td>687</td>\n",
       "      <td>77.1</td>\n",
       "    </tr>\n",
       "    <tr>\n",
       "      <th>Embarked</th>\n",
       "      <td>2</td>\n",
       "      <td>0.2</td>\n",
       "    </tr>\n",
       "  </tbody>\n",
       "</table>\n",
       "</div>"
      ],
      "text/plain": [
       "          Missing (count)  Missing (%)\n",
       "Survived                0          0.0\n",
       "Pclass                  0          0.0\n",
       "Sex                     0          0.0\n",
       "Age                   177         19.9\n",
       "SibSp                   0          0.0\n",
       "Parch                   0          0.0\n",
       "Fare                    0          0.0\n",
       "Cabin                 687         77.1\n",
       "Embarked                2          0.2"
      ]
     },
     "execution_count": 6,
     "metadata": {},
     "output_type": "execute_result"
    }
   ],
   "source": [
    "count_missing_data = train_data.isnull().sum()\n",
    "percent_missing_data = round(train_data.isnull().sum()/len(train_data) * 100, 1)\n",
    "missing_data = pd.concat([count_missing_data, percent_missing_data], axis = 1)\n",
    "missing_data.columns = [\"Missing (count)\", \"Missing (%)\"]\n",
    "missing_data"
   ]
  },
  {
   "cell_type": "markdown",
   "id": "125a6c72",
   "metadata": {},
   "source": [
    "- ***Train Data***: *There are missing values with respect to the varibles 'AGE','CABIN' and 'EMBARKED'.*"
   ]
  },
  {
   "cell_type": "code",
   "execution_count": 7,
   "id": "bf622f42",
   "metadata": {},
   "outputs": [
    {
     "data": {
      "text/html": [
       "<div>\n",
       "<style scoped>\n",
       "    .dataframe tbody tr th:only-of-type {\n",
       "        vertical-align: middle;\n",
       "    }\n",
       "\n",
       "    .dataframe tbody tr th {\n",
       "        vertical-align: top;\n",
       "    }\n",
       "\n",
       "    .dataframe thead th {\n",
       "        text-align: right;\n",
       "    }\n",
       "</style>\n",
       "<table border=\"1\" class=\"dataframe\">\n",
       "  <thead>\n",
       "    <tr style=\"text-align: right;\">\n",
       "      <th></th>\n",
       "      <th>Missing (count)</th>\n",
       "      <th>Missing (%)</th>\n",
       "    </tr>\n",
       "  </thead>\n",
       "  <tbody>\n",
       "    <tr>\n",
       "      <th>Pclass</th>\n",
       "      <td>0</td>\n",
       "      <td>0.0</td>\n",
       "    </tr>\n",
       "    <tr>\n",
       "      <th>Sex</th>\n",
       "      <td>0</td>\n",
       "      <td>0.0</td>\n",
       "    </tr>\n",
       "    <tr>\n",
       "      <th>Age</th>\n",
       "      <td>86</td>\n",
       "      <td>20.6</td>\n",
       "    </tr>\n",
       "    <tr>\n",
       "      <th>SibSp</th>\n",
       "      <td>0</td>\n",
       "      <td>0.0</td>\n",
       "    </tr>\n",
       "    <tr>\n",
       "      <th>Parch</th>\n",
       "      <td>0</td>\n",
       "      <td>0.0</td>\n",
       "    </tr>\n",
       "    <tr>\n",
       "      <th>Fare</th>\n",
       "      <td>1</td>\n",
       "      <td>0.2</td>\n",
       "    </tr>\n",
       "    <tr>\n",
       "      <th>Cabin</th>\n",
       "      <td>327</td>\n",
       "      <td>78.2</td>\n",
       "    </tr>\n",
       "    <tr>\n",
       "      <th>Embarked</th>\n",
       "      <td>0</td>\n",
       "      <td>0.0</td>\n",
       "    </tr>\n",
       "  </tbody>\n",
       "</table>\n",
       "</div>"
      ],
      "text/plain": [
       "          Missing (count)  Missing (%)\n",
       "Pclass                  0          0.0\n",
       "Sex                     0          0.0\n",
       "Age                    86         20.6\n",
       "SibSp                   0          0.0\n",
       "Parch                   0          0.0\n",
       "Fare                    1          0.2\n",
       "Cabin                 327         78.2\n",
       "Embarked                0          0.0"
      ]
     },
     "execution_count": 7,
     "metadata": {},
     "output_type": "execute_result"
    }
   ],
   "source": [
    "count_missing_data = test_data.isnull().sum()\n",
    "percent_missing_data = round(test_data.isnull().sum()/len(test_data) * 100, 1)\n",
    "missing_data = pd.concat([count_missing_data, percent_missing_data], axis = 1)\n",
    "missing_data.columns = [\"Missing (count)\", \"Missing (%)\"]\n",
    "missing_data"
   ]
  },
  {
   "cell_type": "markdown",
   "id": "6a607e99",
   "metadata": {},
   "source": [
    "- ***Test Data***: *There are missing values with respect to teh variables 'AGE', 'CABIN' and 'FARE'.*"
   ]
  },
  {
   "cell_type": "markdown",
   "id": "8501e529",
   "metadata": {},
   "source": [
    "***Since the variable 'CABIN' has more than 25% missing values , this variable will be remove for the dataset.***"
   ]
  },
  {
   "cell_type": "code",
   "execution_count": 8,
   "id": "b590fd6b",
   "metadata": {},
   "outputs": [],
   "source": [
    "train_data = train_data.drop(['Cabin'], axis = 1)\n",
    "test_data = test_data.drop(['Cabin'], axis = 1)"
   ]
  },
  {
   "cell_type": "markdown",
   "id": "2b9925f2",
   "metadata": {},
   "source": [
    "### *ii).Detecting the Presence of Outliers :* "
   ]
  },
  {
   "cell_type": "markdown",
   "id": "34471d07",
   "metadata": {},
   "source": [
    "*An Outlier is an observation in a given dataset that lies far from the rest of the observations.Treating the outliers is very crucial as they can negatively affect the statistical analysis and the training process of a machine learning algorithm resulting in lower accuracy.*"
   ]
  },
  {
   "cell_type": "code",
   "execution_count": 58,
   "id": "55a7ebb5",
   "metadata": {},
   "outputs": [
    {
     "data": {
      "text/plain": [
       "Text(0.5, 1.0, 'Age of Test Data')"
      ]
     },
     "execution_count": 58,
     "metadata": {},
     "output_type": "execute_result"
    },
    {
     "data": {
      "image/png": "[encoded data removed]",
      "text/plain": [
       "<Figure size 1296x504 with 4 Axes>"
      ]
     },
     "metadata": {
      "needs_background": "light"
     },
     "output_type": "display_data"
    }
   ],
   "source": [
    "warnings.filterwarnings(\"ignore\")\n",
    "\n",
    "plt.figure(figsize = (18,7))\n",
    "\n",
    "#Age analysis for both datasets:\n",
    "# Boxplot\n",
    "plt.subplot(2,4,1)\n",
    "age_train = sns.boxplot(x = train_data['Age'], color = 'blue', width = 0.4)\n",
    "plt.title(\"Age of Train Data\")\n",
    "plt.subplot(2,4,2)\n",
    "age_test = sns.boxplot(x = test_data['Age'], color = 'blue', width = 0.4)\n",
    "plt.title(\"Age of Test Data\")\n",
    "\n",
    "#QQ plot:\n",
    "plt.subplot(2,4,3)\n",
    "probplot(train_data['Age'], dist = 'norm', plot=plt)\n",
    "plt.title(\"Age of Train Data\")\n",
    "plt.subplot(2,4,4)\n",
    "probplot(test_data['Age'], dist = 'norm', plot=plt)\n",
    "plt.title(\"Age of Test Data\")"
   ]
  },
  {
   "cell_type": "code",
   "execution_count": 59,
   "id": "845ae0bd",
   "metadata": {},
   "outputs": [
    {
     "data": {
      "text/plain": [
       "Text(0.5, 1.0, 'Fare of Test Data')"
      ]
     },
     "execution_count": 59,
     "metadata": {},
     "output_type": "execute_result"
    },
    {
     "data": {
      "image/png": "[encoded data removed]",
      "text/plain": [
       "<Figure size 1296x504 with 4 Axes>"
      ]
     },
     "metadata": {
      "needs_background": "light"
     },
     "output_type": "display_data"
    }
   ],
   "source": [
    "warnings.filterwarnings(\"ignore\")\n",
    "\n",
    "plt.figure(figsize = (18,7))\n",
    "\n",
    "#Fare analysis for both datasets:\n",
    "# Boxplot\n",
    "plt.subplot(2,4,1)\n",
    "age_train = sns.boxplot(x = train_data['Fare'], color = 'blue', width = 0.4)\n",
    "plt.title(\"Fare of Test Data\")\n",
    "plt.subplot(2,4,2)\n",
    "age_test = sns.boxplot(x = test_data['Fare'], color = 'blue', width = 0.4)\n",
    "plt.title(\"Fare of Test Data\")\n",
    "\n",
    "#QQ plot:\n",
    "plt.subplot(2,4,3)\n",
    "probplot(train_data['Age'], dist = 'norm', plot=plt)\n",
    "plt.title(\"Fare of Train Data\")\n",
    "plt.subplot(2,4,4)\n",
    "probplot(test_data['Age'], dist = 'norm', plot=plt)\n",
    "plt.title(\"Fare of Test Data\")"
   ]
  },
  {
   "cell_type": "markdown",
   "id": "241c3e62",
   "metadata": {},
   "source": [
    "***The above figures with respect to the variable 'FARE' and 'AGE' of both TRAIN and TEST data, helps us in detecting the presence of huge number of outliers which is intended to be treated later.***"
   ]
  },
  {
   "cell_type": "markdown",
   "id": "601211eb",
   "metadata": {},
   "source": [
    "### *iii). Determining the distribution of the variables :*"
   ]
  },
  {
   "cell_type": "markdown",
   "id": "9cc6505f",
   "metadata": {},
   "source": [
    "*Determining the distribution or skewness helps us to understand where the most information is lying and also helps in analyzing  the outliers in a given data. If the values of a specific independent variable (feature) are skewed, depending on the model, skewness may violate model assumptions or may reduce the interpretation of feature importance.*"
   ]
  },
  {
   "cell_type": "code",
   "execution_count": 60,
   "id": "3250b49a",
   "metadata": {},
   "outputs": [
    {
     "data": {
      "text/plain": [
       "Text(0.5, 1.0, 'The distributions with respect to Train Data')"
      ]
     },
     "execution_count": 60,
     "metadata": {},
     "output_type": "execute_result"
    },
    {
     "data": {
      "image/png": "[encoded data removed]",
      "text/plain": [
       "<Figure size 900x180 with 1 Axes>"
      ]
     },
     "metadata": {
      "needs_background": "light"
     },
     "output_type": "display_data"
    },
    {
     "data": {
      "image/png": "[encoded data removed]",
      "text/plain": [
       "<Figure size 900x180 with 1 Axes>"
      ]
     },
     "metadata": {
      "needs_background": "light"
     },
     "output_type": "display_data"
    }
   ],
   "source": [
    "train_variables = train_data[['Age','Fare']]\n",
    "klib.dist_plot(train_variables)\n",
    "plt.title(\"The distributions with respect to Train Data\")    # write big "
   ]
  },
  {
   "cell_type": "code",
   "execution_count": 61,
   "id": "0b03ff69",
   "metadata": {},
   "outputs": [
    {
     "data": {
      "text/plain": [
       "Text(0.5, 1.0, 'The distributions with respect to Test Data')"
      ]
     },
     "execution_count": 61,
     "metadata": {},
     "output_type": "execute_result"
    },
    {
     "data": {
      "image/png": "[encoded data removed]",
      "text/plain": [
       "<Figure size 900x180 with 1 Axes>"
      ]
     },
     "metadata": {
      "needs_background": "light"
     },
     "output_type": "display_data"
    },
    {
     "data": {
      "image/png": "[encoded data removed]",
      "text/plain": [
       "<Figure size 900x180 with 1 Axes>"
      ]
     },
     "metadata": {
      "needs_background": "light"
     },
     "output_type": "display_data"
    }
   ],
   "source": [
    "test_variables = test_data[['Age','Fare']]\n",
    "klib.dist_plot(test_variables)\n",
    "plt.title(\"The distributions with respect to Test Data\")    # write big "
   ]
  },
  {
   "cell_type": "markdown",
   "id": "dd63f088",
   "metadata": {},
   "source": [
    "***Clearly, the variable 'FARE' are heavily skewed to the right in both TEST and TRAIN data.***"
   ]
  },
  {
   "cell_type": "markdown",
   "id": "74b2785d",
   "metadata": {},
   "source": [
    "### *iv). Imputation of the Missing Values:*"
   ]
  },
  {
   "cell_type": "markdown",
   "id": "1546c5dc",
   "metadata": {},
   "source": [
    "### *a). EMBARKED VARIABLE:* "
   ]
  },
  {
   "cell_type": "markdown",
   "id": "6eb237a9",
   "metadata": {},
   "source": [
    "***As mentioned earlier, there are missing values with respect to 'Embarked' only in the train data which is to be imputed by the most frequent value(mode) of this variable.***"
   ]
  },
  {
   "cell_type": "code",
   "execution_count": 9,
   "id": "007afc9e",
   "metadata": {},
   "outputs": [
    {
     "data": {
      "text/plain": [
       "S    644\n",
       "C    168\n",
       "Q     77\n",
       "Name: Embarked, dtype: int64"
      ]
     },
     "execution_count": 9,
     "metadata": {},
     "output_type": "execute_result"
    }
   ],
   "source": [
    "train_data['Embarked'].value_counts()"
   ]
  },
  {
   "cell_type": "code",
   "execution_count": 10,
   "id": "910766fc",
   "metadata": {},
   "outputs": [
    {
     "data": {
      "text/plain": [
       "0"
      ]
     },
     "execution_count": 10,
     "metadata": {},
     "output_type": "execute_result"
    }
   ],
   "source": [
    "train_data['Embarked'] = np.where((train_data['Embarked'].isnull() == True),'S', train_data['Embarked'])\n",
    "train_data['Embarked'].isnull().sum()"
   ]
  },
  {
   "cell_type": "markdown",
   "id": "6eb43297",
   "metadata": {},
   "source": [
    "### *b). AGE VARIABLE:*"
   ]
  },
  {
   "cell_type": "code",
   "execution_count": 21,
   "id": "d834e2b1",
   "metadata": {},
   "outputs": [
    {
     "data": {
      "image/png": "[encoded data removed]",
      "text/plain": [
       "<Figure size 432x288 with 1 Axes>"
      ]
     },
     "metadata": {
      "needs_background": "light"
     },
     "output_type": "display_data"
    }
   ],
   "source": [
    "bar_pclass = sns.countplot(x = 'Survived', hue = 'Pclass', data = train_data, palette = 'PuRd')"
   ]
  },
  {
   "cell_type": "markdown",
   "id": "3c26aba6",
   "metadata": {},
   "source": [
    "***From the above figure, its is very evident that passengers belonging to the 1st class(richer class) have more chances of being survived.So therefore we can make an assumption that the first preferneces/priority was given to the passengers belonging to the 1st class.***"
   ]
  },
  {
   "cell_type": "code",
   "execution_count": 22,
   "id": "c7790123",
   "metadata": {},
   "outputs": [
    {
     "data": {
      "image/png": "[encoded data removed]",
      "text/plain": [
       "<Figure size 432x288 with 1 Axes>"
      ]
     },
     "metadata": {
      "needs_background": "light"
     },
     "output_type": "display_data"
    }
   ],
   "source": [
    "bar_gender = sns.countplot(x = 'Survived',hue = 'Sex', data = train_data, palette = 'RdPu')"
   ]
  },
  {
   "cell_type": "markdown",
   "id": "899b44d6",
   "metadata": {},
   "source": [
    "***The graph tells us that majority who died were male passengers than female passengers.***"
   ]
  },
  {
   "cell_type": "code",
   "execution_count": 23,
   "id": "e6e7f325",
   "metadata": {},
   "outputs": [
    {
     "data": {
      "image/png": "[encoded data removed]",
      "text/plain": [
       "<Figure size 432x288 with 1 Axes>"
      ]
     },
     "metadata": {
      "needs_background": "light"
     },
     "output_type": "display_data"
    }
   ],
   "source": [
    "bar_gender_pclass = sns.countplot(x = 'Pclass', hue = 'Sex', data = train_data, palette = 'PuRd')"
   ]
  },
  {
   "cell_type": "markdown",
   "id": "3c312575",
   "metadata": {},
   "source": [
    "***From the above figure, it is very evident that strength of the female passengers are more in each of the Pclass.***"
   ]
  },
  {
   "cell_type": "code",
   "execution_count": 24,
   "id": "346408a4",
   "metadata": {},
   "outputs": [
    {
     "name": "stdout",
     "output_type": "stream",
     "text": [
      "                Age\n",
      "Pclass Sex         \n",
      "1      female 35.00\n",
      "       male   40.00\n",
      "2      female 28.00\n",
      "       male   30.00\n",
      "3      female 22.00\n",
      "       male   25.00\n"
     ]
    }
   ],
   "source": [
    "data2 = train_data.dropna()\n",
    "\n",
    "group_age = round(data2.groupby(['Pclass','Sex']).aggregate({'Age':'median'}),0)\n",
    "print(group_age)"
   ]
  },
  {
   "cell_type": "markdown",
   "id": "5cd01dd9",
   "metadata": {},
   "source": [
    "***We will impute the missing values in the variable 'Age' by mean of age with respect to 'Pclass' and 'Gender' for the following two reasons:***    \n",
    "- ***a). The count of the female passengers in each of the Pclass is more than that of the male.***  \n",
    "- ***b). The surival rate for the passengers travelling in 1st pclass is more than any other Pclasses.***"
   ]
  },
  {
   "cell_type": "code",
   "execution_count": 11,
   "id": "316af61f",
   "metadata": {},
   "outputs": [],
   "source": [
    "#Treating AGE of traindata:\n",
    "data = train_data\n",
    "\n",
    "data['Age'] = np.where((data['Age'].isnull() == True) & (data['Sex'] == 'female') & (data['Pclass'] == 1),35.0, data['Age'])\n",
    "data['Age'] = np.where((data['Age'].isnull() == True) & (data['Sex'] == 'male') & (data['Pclass'] == 1),40.0, data['Age'])\n",
    "data['Age'] = np.where((data['Age'].isnull() == True) & (data['Sex'] == 'female') & (data['Pclass'] == 2),29.0, data['Age'])\n",
    "data['Age'] = np.where((data['Age'].isnull() == True) & (data['Sex'] == 'male') & (data['Pclass'] == 2),18.0, data['Age'])\n",
    "data['Age'] = np.where((data['Age'].isnull() == True) & (data['Sex'] == 'female') & (data['Pclass'] == 3),24.0, data['Age'])\n",
    "data['Age'] = np.where((data['Age'].isnull() == True) & (data['Sex'] == 'male') & (data['Pclass'] == 3),25.0, data['Age'])\n",
    "\n",
    "train_data = data"
   ]
  },
  {
   "cell_type": "code",
   "execution_count": 12,
   "id": "aed7e25e",
   "metadata": {},
   "outputs": [],
   "source": [
    "# Treating AGE of test data :\n",
    "data = test_data\n",
    "data['Age'] = np.where((data['Age'].isnull() == True) & (data['Sex'] == 'female') & (data['Pclass'] == 1),35.0, data['Age'])\n",
    "data['Age'] = np.where((data['Age'].isnull() == True) & (data['Sex'] == 'male') & (data['Pclass'] == 1),40.0, data['Age'])\n",
    "data['Age'] = np.where((data['Age'].isnull() == True) & (data['Sex'] == 'female') & (data['Pclass'] == 2),29.0, data['Age'])\n",
    "data['Age'] = np.where((data['Age'].isnull() == True) & (data['Sex'] == 'male') & (data['Pclass'] == 2),18.0, data['Age'])\n",
    "data['Age'] = np.where((data['Age'].isnull() == True) & (data['Sex'] == 'female') & (data['Pclass'] == 3),24.0, data['Age'])\n",
    "data['Age'] = np.where((data['Age'].isnull() == True) & (data['Sex'] == 'male') & (data['Pclass'] == 3),25.0, data['Age'])\n",
    "\n",
    "test_data = data"
   ]
  },
  {
   "cell_type": "code",
   "execution_count": 13,
   "id": "c56e089a",
   "metadata": {},
   "outputs": [
    {
     "data": {
      "text/plain": [
       "0"
      ]
     },
     "execution_count": 13,
     "metadata": {},
     "output_type": "execute_result"
    }
   ],
   "source": [
    "train_data['Age'].isnull().sum()"
   ]
  },
  {
   "cell_type": "code",
   "execution_count": 14,
   "id": "7e9d1244",
   "metadata": {},
   "outputs": [
    {
     "data": {
      "text/plain": [
       "0"
      ]
     },
     "execution_count": 14,
     "metadata": {},
     "output_type": "execute_result"
    }
   ],
   "source": [
    "test_data['Age'].isnull().sum()"
   ]
  },
  {
   "cell_type": "markdown",
   "id": "314d6996",
   "metadata": {},
   "source": [
    "### *c). FARE VARIABLE:*"
   ]
  },
  {
   "cell_type": "markdown",
   "id": "b1632f00",
   "metadata": {},
   "source": [
    "***As observed earlier, there is 1 missing values with respect to the 'FARE' variable of test data which will be imputed by the median of the same due to the presence of the outliers.***"
   ]
  },
  {
   "cell_type": "code",
   "execution_count": 15,
   "id": "00be5087",
   "metadata": {},
   "outputs": [],
   "source": [
    "median_fare = round(test_data['Fare'].median(),0)"
   ]
  },
  {
   "cell_type": "code",
   "execution_count": 16,
   "id": "3da95e14",
   "metadata": {},
   "outputs": [],
   "source": [
    "test_data['Fare'] = np.where((test_data['Fare'].isnull() == True), median_fare, test_data['Fare'])"
   ]
  },
  {
   "cell_type": "code",
   "execution_count": 17,
   "id": "b6d083e5",
   "metadata": {},
   "outputs": [
    {
     "data": {
      "text/plain": [
       "0"
      ]
     },
     "execution_count": 17,
     "metadata": {},
     "output_type": "execute_result"
    }
   ],
   "source": [
    "test_data['Fare'].isnull().sum()"
   ]
  },
  {
   "cell_type": "code",
   "execution_count": 34,
   "id": "9ad39e10",
   "metadata": {},
   "outputs": [
    {
     "data": {
      "text/plain": [
       "Survived    0\n",
       "Pclass      0\n",
       "Sex         0\n",
       "Age         0\n",
       "SibSp       0\n",
       "Parch       0\n",
       "Fare        0\n",
       "Embarked    0\n",
       "dtype: int64"
      ]
     },
     "execution_count": 34,
     "metadata": {},
     "output_type": "execute_result"
    }
   ],
   "source": [
    "train_data.isnull().sum()"
   ]
  },
  {
   "cell_type": "code",
   "execution_count": 35,
   "id": "8b2d2e01",
   "metadata": {},
   "outputs": [
    {
     "data": {
      "text/plain": [
       "Pclass      0\n",
       "Sex         0\n",
       "Age         0\n",
       "SibSp       0\n",
       "Parch       0\n",
       "Fare        0\n",
       "Embarked    0\n",
       "dtype: int64"
      ]
     },
     "execution_count": 35,
     "metadata": {},
     "output_type": "execute_result"
    }
   ],
   "source": [
    "test_data.isnull().sum()"
   ]
  },
  {
   "cell_type": "markdown",
   "id": "27b29add",
   "metadata": {},
   "source": [
    "***Clearly, all the missing values have been created.***"
   ]
  },
  {
   "cell_type": "markdown",
   "id": "c20069ca",
   "metadata": {},
   "source": [
    "## *v). Outlier Treatment :*"
   ]
  },
  {
   "cell_type": "markdown",
   "id": "c1a3a041",
   "metadata": {},
   "source": [
    "- ***From the above histograms and boxplots, it is very evident that 'FARE' variable is positively skewed due to which we will be treating the ouliers with IQR.***\n",
    "- ***On the other hand, the variable 'AGE' is approximately normally distributed because of which we will be using the z-score to detect the outliers of the same.***"
   ]
  },
  {
   "cell_type": "markdown",
   "id": "cc15384b",
   "metadata": {},
   "source": [
    "### *a). FARE VARAIBLE:*"
   ]
  },
  {
   "cell_type": "code",
   "execution_count": 19,
   "id": "e3ad0327",
   "metadata": {},
   "outputs": [],
   "source": [
    "outliers = []\n",
    "def detect_outliers_iqr(data):\n",
    "    \"\"\" Function to detect and handle outliers using IQR.\"\"\"\n",
    "    \n",
    "    data = sorted(data)\n",
    "    q1 = np.percentile(data, 25)\n",
    "    q3 = np.percentile(data, 75)\n",
    "    \n",
    "    IQR = q3-q1\n",
    "    \n",
    "    lwr_bound = q1-(1.5*IQR)\n",
    "    upr_bound = q3+(1.5*IQR)\n",
    "  \n",
    "    data = np.where(data < lwr_bound, lwr_bound, data)\n",
    "    data = np.where(data > upr_bound, upr_bound, data)\n",
    "    \n",
    "    return data "
   ]
  },
  {
   "cell_type": "code",
   "execution_count": 20,
   "id": "d1b65efc",
   "metadata": {},
   "outputs": [],
   "source": [
    "#calling the function for train_data:\n",
    "train_data['Fare'] = detect_outliers_iqr(train_data['Fare'])\n",
    "\n",
    "#calling the function for testdata:\n",
    "test_data['Fare'] = detect_outliers_iqr(test_data['Fare'])"
   ]
  },
  {
   "cell_type": "code",
   "execution_count": 21,
   "id": "17303914",
   "metadata": {},
   "outputs": [
    {
     "data": {
      "text/plain": [
       "Text(0.5, 1.0, 'TrainData(Fare) - After treatment')"
      ]
     },
     "execution_count": 21,
     "metadata": {},
     "output_type": "execute_result"
    },
    {
     "data": {
      "image/png": "[encoded data removed]",
      "text/plain": [
       "<Figure size 720x360 with 2 Axes>"
      ]
     },
     "metadata": {
      "needs_background": "light"
     },
     "output_type": "display_data"
    }
   ],
   "source": [
    "plt.figure(figsize = (10,5))\n",
    "\n",
    "plt.subplot(1,2,1)\n",
    "sns.boxplot(x = data3['Fare'], color = 'yellow')\n",
    "plt.title(\"TrainData(Fare) - Before treatment\")\n",
    "\n",
    "plt.subplot(1,2,2)\n",
    "sns.boxplot(x = train_data['Fare'], color = 'greenyellow')\n",
    "plt.title('TrainData(Fare) - After treatment')"
   ]
  },
  {
   "cell_type": "code",
   "execution_count": 98,
   "id": "2f58742f",
   "metadata": {},
   "outputs": [
    {
     "data": {
      "text/plain": [
       "Text(0.5, 1.0, 'TestData(Fare) - Before treatment')"
      ]
     },
     "execution_count": 98,
     "metadata": {},
     "output_type": "execute_result"
    },
    {
     "data": {
      "image/png": "[encoded data removed]",
      "text/plain": [
       "<Figure size 720x360 with 2 Axes>"
      ]
     },
     "metadata": {
      "needs_background": "light"
     },
     "output_type": "display_data"
    }
   ],
   "source": [
    "plt.figure(figsize = (10,5))\n",
    "plt.subplot(1,2,1)\n",
    "sns.boxplot(x = data2['Fare'], color = 'yellow')\n",
    "plt.title(\"TestData(Fare) - Before treatment\")\n",
    "\n",
    "\n",
    "plt.subplot(1,2,2)\n",
    "sns.boxplot(x = test_data['Fare'], color = 'yellow')\n",
    "plt.title(\"TestData(Fare) - Before treatment\")"
   ]
  },
  {
   "cell_type": "markdown",
   "id": "acc8cecd",
   "metadata": {},
   "source": [
    "### *b). AGE VARIABLE:*"
   ]
  },
  {
   "cell_type": "code",
   "execution_count": 22,
   "id": "3568aa33",
   "metadata": {},
   "outputs": [],
   "source": [
    "p = []\n",
    "def zscore_treatment(data):\n",
    "    '''Function for oulier Treatment using z-score.'''\n",
    "    \n",
    "    mean1 = np.mean(data)\n",
    "    std1 = np.std(data)\n",
    "    \n",
    "    fifth = np.percentile(sorted(data), 5)\n",
    "    ninty_fifth = np.percentile(sorted(data), 95)\n",
    "    \n",
    "    for i in data:\n",
    "        z_score = (i - mean1)/std1\n",
    "    \n",
    "        if (z_score < -3):\n",
    "            data = data.replace([i], fifth)\n",
    "        elif (z_score > 3):\n",
    "            data = data.replace([i],ninty_fifth )\n",
    "        else:\n",
    "            pass\n",
    "        \n",
    "    return data          "
   ]
  },
  {
   "cell_type": "code",
   "execution_count": 23,
   "id": "8ffe3abd",
   "metadata": {},
   "outputs": [],
   "source": [
    "# calling the function for train data\n",
    "train_data['Age'] = zscore_treatment(train_data['Age'])\n",
    "\n",
    "#calling the function for test data:\n",
    "test_data['Age'] = zscore_treatment(test_data['Age'])"
   ]
  },
  {
   "cell_type": "code",
   "execution_count": 44,
   "id": "f7005472",
   "metadata": {},
   "outputs": [
    {
     "data": {
      "text/plain": [
       "Text(0.5, 1.0, 'TrainData(Age) - After treatment')"
      ]
     },
     "execution_count": 44,
     "metadata": {},
     "output_type": "execute_result"
    },
    {
     "data": {
      "image/png": "[encoded data removed]",
      "text/plain": [
       "<Figure size 720x360 with 2 Axes>"
      ]
     },
     "metadata": {
      "needs_background": "light"
     },
     "output_type": "display_data"
    }
   ],
   "source": [
    "plt.figure(figsize = (10,5))\n",
    "\n",
    "plt.subplot(1,2,1)\n",
    "sns.boxplot(x = data3['Age'], color = 'yellow')\n",
    "plt.title(\"TrainData(Age) - Before treatment\")\n",
    "\n",
    "plt.subplot(1,2,2)\n",
    "sns.boxplot(x = train_data['Age'], color = 'greenyellow')\n",
    "plt.title('TrainData(Age) - After treatment')"
   ]
  },
  {
   "cell_type": "code",
   "execution_count": 45,
   "id": "0491f9f8",
   "metadata": {},
   "outputs": [
    {
     "data": {
      "text/plain": [
       "Text(0.5, 1.0, 'TestData(Age) - After treatment')"
      ]
     },
     "execution_count": 45,
     "metadata": {},
     "output_type": "execute_result"
    },
    {
     "data": {
      "image/png": "[encoded data removed]",
      "text/plain": [
       "<Figure size 720x360 with 2 Axes>"
      ]
     },
     "metadata": {
      "needs_background": "light"
     },
     "output_type": "display_data"
    }
   ],
   "source": [
    "plt.figure(figsize = (10,5))\n",
    "\n",
    "plt.subplot(1,2,1)\n",
    "sns.boxplot(x = data2['Age'], color = 'yellow')\n",
    "plt.title(\"TestData(Age) - Before treatment\")\n",
    "\n",
    "plt.subplot(1,2,2)\n",
    "sns.boxplot(x = test_data['Age'], color = 'greenyellow')\n",
    "plt.title('TestData(Age) - After treatment')"
   ]
  },
  {
   "cell_type": "markdown",
   "id": "d89aba5a",
   "metadata": {},
   "source": [
    "## 3). Feature Engineering:"
   ]
  },
  {
   "cell_type": "markdown",
   "id": "1aac646a",
   "metadata": {},
   "source": [
    "### *i). Creation of New Features:*"
   ]
  },
  {
   "cell_type": "code",
   "execution_count": 24,
   "id": "69631d07",
   "metadata": {},
   "outputs": [],
   "source": [
    "train_data['Familymembers_onboard'] = train_data['SibSp'] + train_data['Parch'] \n",
    "test_data['Familymembers_onboard'] = test_data['SibSp'] + test_data['Parch']"
   ]
  },
  {
   "cell_type": "markdown",
   "id": "1a2eb5e3",
   "metadata": {},
   "source": [
    "***A new attribute Familymembers_onboard has been generated from Sibsp and Parch. Therefore we need to drop Sibsp and Parch from the data as it will lead to multicollinearity.***"
   ]
  },
  {
   "cell_type": "code",
   "execution_count": 25,
   "id": "3280c617",
   "metadata": {},
   "outputs": [],
   "source": [
    "train_data = train_data.drop(['Parch','SibSp'], axis = 1)\n",
    "test_data = test_data.drop(['Parch','SibSp'], axis = 1)"
   ]
  },
  {
   "cell_type": "markdown",
   "id": "fa43c2bb",
   "metadata": {},
   "source": [
    "### *ii). Dummy Enconding:*"
   ]
  },
  {
   "cell_type": "code",
   "execution_count": 26,
   "id": "c644c03d",
   "metadata": {},
   "outputs": [],
   "source": [
    "train_data = pd.get_dummies(train_data)\n",
    "test_data = pd.get_dummies(test_data)"
   ]
  },
  {
   "cell_type": "code",
   "execution_count": 27,
   "id": "fe57a874",
   "metadata": {},
   "outputs": [
    {
     "data": {
      "text/html": [
       "<div>\n",
       "<style scoped>\n",
       "    .dataframe tbody tr th:only-of-type {\n",
       "        vertical-align: middle;\n",
       "    }\n",
       "\n",
       "    .dataframe tbody tr th {\n",
       "        vertical-align: top;\n",
       "    }\n",
       "\n",
       "    .dataframe thead th {\n",
       "        text-align: right;\n",
       "    }\n",
       "</style>\n",
       "<table border=\"1\" class=\"dataframe\">\n",
       "  <thead>\n",
       "    <tr style=\"text-align: right;\">\n",
       "      <th></th>\n",
       "      <th>Survived</th>\n",
       "      <th>Pclass</th>\n",
       "      <th>Age</th>\n",
       "      <th>Fare</th>\n",
       "      <th>Familymembers_onboard</th>\n",
       "      <th>Sex_female</th>\n",
       "      <th>Sex_male</th>\n",
       "      <th>Embarked_C</th>\n",
       "      <th>Embarked_Q</th>\n",
       "      <th>Embarked_S</th>\n",
       "    </tr>\n",
       "  </thead>\n",
       "  <tbody>\n",
       "    <tr>\n",
       "      <th>0</th>\n",
       "      <td>0</td>\n",
       "      <td>3</td>\n",
       "      <td>22.0</td>\n",
       "      <td>0.0</td>\n",
       "      <td>1</td>\n",
       "      <td>0</td>\n",
       "      <td>1</td>\n",
       "      <td>0</td>\n",
       "      <td>0</td>\n",
       "      <td>1</td>\n",
       "    </tr>\n",
       "    <tr>\n",
       "      <th>1</th>\n",
       "      <td>1</td>\n",
       "      <td>1</td>\n",
       "      <td>38.0</td>\n",
       "      <td>0.0</td>\n",
       "      <td>1</td>\n",
       "      <td>1</td>\n",
       "      <td>0</td>\n",
       "      <td>1</td>\n",
       "      <td>0</td>\n",
       "      <td>0</td>\n",
       "    </tr>\n",
       "    <tr>\n",
       "      <th>2</th>\n",
       "      <td>1</td>\n",
       "      <td>3</td>\n",
       "      <td>26.0</td>\n",
       "      <td>0.0</td>\n",
       "      <td>0</td>\n",
       "      <td>1</td>\n",
       "      <td>0</td>\n",
       "      <td>0</td>\n",
       "      <td>0</td>\n",
       "      <td>1</td>\n",
       "    </tr>\n",
       "    <tr>\n",
       "      <th>3</th>\n",
       "      <td>1</td>\n",
       "      <td>1</td>\n",
       "      <td>35.0</td>\n",
       "      <td>0.0</td>\n",
       "      <td>1</td>\n",
       "      <td>1</td>\n",
       "      <td>0</td>\n",
       "      <td>0</td>\n",
       "      <td>0</td>\n",
       "      <td>1</td>\n",
       "    </tr>\n",
       "    <tr>\n",
       "      <th>4</th>\n",
       "      <td>0</td>\n",
       "      <td>3</td>\n",
       "      <td>35.0</td>\n",
       "      <td>0.0</td>\n",
       "      <td>0</td>\n",
       "      <td>0</td>\n",
       "      <td>1</td>\n",
       "      <td>0</td>\n",
       "      <td>0</td>\n",
       "      <td>1</td>\n",
       "    </tr>\n",
       "  </tbody>\n",
       "</table>\n",
       "</div>"
      ],
      "text/plain": [
       "   Survived  Pclass   Age  Fare  Familymembers_onboard  Sex_female  Sex_male  \\\n",
       "0         0       3  22.0   0.0                      1           0         1   \n",
       "1         1       1  38.0   0.0                      1           1         0   \n",
       "2         1       3  26.0   0.0                      0           1         0   \n",
       "3         1       1  35.0   0.0                      1           1         0   \n",
       "4         0       3  35.0   0.0                      0           0         1   \n",
       "\n",
       "   Embarked_C  Embarked_Q  Embarked_S  \n",
       "0           0           0           1  \n",
       "1           1           0           0  \n",
       "2           0           0           1  \n",
       "3           0           0           1  \n",
       "4           0           0           1  "
      ]
     },
     "execution_count": 27,
     "metadata": {},
     "output_type": "execute_result"
    }
   ],
   "source": [
    "train_data.head()"
   ]
  },
  {
   "cell_type": "code",
   "execution_count": 28,
   "id": "7bcf2f2e",
   "metadata": {},
   "outputs": [
    {
     "data": {
      "text/html": [
       "<div>\n",
       "<style scoped>\n",
       "    .dataframe tbody tr th:only-of-type {\n",
       "        vertical-align: middle;\n",
       "    }\n",
       "\n",
       "    .dataframe tbody tr th {\n",
       "        vertical-align: top;\n",
       "    }\n",
       "\n",
       "    .dataframe thead th {\n",
       "        text-align: right;\n",
       "    }\n",
       "</style>\n",
       "<table border=\"1\" class=\"dataframe\">\n",
       "  <thead>\n",
       "    <tr style=\"text-align: right;\">\n",
       "      <th></th>\n",
       "      <th>Pclass</th>\n",
       "      <th>Age</th>\n",
       "      <th>Fare</th>\n",
       "      <th>Familymembers_onboard</th>\n",
       "      <th>Sex_female</th>\n",
       "      <th>Sex_male</th>\n",
       "      <th>Embarked_C</th>\n",
       "      <th>Embarked_Q</th>\n",
       "      <th>Embarked_S</th>\n",
       "    </tr>\n",
       "  </thead>\n",
       "  <tbody>\n",
       "    <tr>\n",
       "      <th>0</th>\n",
       "      <td>3</td>\n",
       "      <td>34.5</td>\n",
       "      <td>0.0000</td>\n",
       "      <td>0</td>\n",
       "      <td>0</td>\n",
       "      <td>1</td>\n",
       "      <td>0</td>\n",
       "      <td>1</td>\n",
       "      <td>0</td>\n",
       "    </tr>\n",
       "    <tr>\n",
       "      <th>1</th>\n",
       "      <td>3</td>\n",
       "      <td>47.0</td>\n",
       "      <td>0.0000</td>\n",
       "      <td>1</td>\n",
       "      <td>1</td>\n",
       "      <td>0</td>\n",
       "      <td>0</td>\n",
       "      <td>0</td>\n",
       "      <td>1</td>\n",
       "    </tr>\n",
       "    <tr>\n",
       "      <th>2</th>\n",
       "      <td>2</td>\n",
       "      <td>62.0</td>\n",
       "      <td>3.1708</td>\n",
       "      <td>0</td>\n",
       "      <td>0</td>\n",
       "      <td>1</td>\n",
       "      <td>0</td>\n",
       "      <td>1</td>\n",
       "      <td>0</td>\n",
       "    </tr>\n",
       "    <tr>\n",
       "      <th>3</th>\n",
       "      <td>3</td>\n",
       "      <td>27.0</td>\n",
       "      <td>6.4375</td>\n",
       "      <td>0</td>\n",
       "      <td>0</td>\n",
       "      <td>1</td>\n",
       "      <td>0</td>\n",
       "      <td>0</td>\n",
       "      <td>1</td>\n",
       "    </tr>\n",
       "    <tr>\n",
       "      <th>4</th>\n",
       "      <td>3</td>\n",
       "      <td>22.0</td>\n",
       "      <td>6.4375</td>\n",
       "      <td>2</td>\n",
       "      <td>1</td>\n",
       "      <td>0</td>\n",
       "      <td>0</td>\n",
       "      <td>0</td>\n",
       "      <td>1</td>\n",
       "    </tr>\n",
       "  </tbody>\n",
       "</table>\n",
       "</div>"
      ],
      "text/plain": [
       "   Pclass   Age    Fare  Familymembers_onboard  Sex_female  Sex_male  \\\n",
       "0       3  34.5  0.0000                      0           0         1   \n",
       "1       3  47.0  0.0000                      1           1         0   \n",
       "2       2  62.0  3.1708                      0           0         1   \n",
       "3       3  27.0  6.4375                      0           0         1   \n",
       "4       3  22.0  6.4375                      2           1         0   \n",
       "\n",
       "   Embarked_C  Embarked_Q  Embarked_S  \n",
       "0           0           1           0  \n",
       "1           0           0           1  \n",
       "2           0           1           0  \n",
       "3           0           0           1  \n",
       "4           0           0           1  "
      ]
     },
     "execution_count": 28,
     "metadata": {},
     "output_type": "execute_result"
    }
   ],
   "source": [
    "test_data.head()"
   ]
  },
  {
   "cell_type": "markdown",
   "id": "63d5eb4f",
   "metadata": {},
   "source": [
    "### *ii). Removing MultiCollinearity:*"
   ]
  },
  {
   "cell_type": "code",
   "execution_count": 25,
   "id": "78ba3194",
   "metadata": {},
   "outputs": [
    {
     "data": {
      "text/plain": [
       "<AxesSubplot:title={'center':'Feature-correlation (pearson)'}>"
      ]
     },
     "execution_count": 25,
     "metadata": {},
     "output_type": "execute_result"
    },
    {
     "data": {
      "image/png": "[encoded data removed]",
      "text/plain": [
       "<Figure size 864x720 with 2 Axes>"
      ]
     },
     "metadata": {
      "needs_background": "light"
     },
     "output_type": "display_data"
    }
   ],
   "source": [
    "klib.corr_plot(train_data)"
   ]
  },
  {
   "cell_type": "code",
   "execution_count": 29,
   "id": "c9915c84",
   "metadata": {},
   "outputs": [],
   "source": [
    "train_data = train_data.drop(['Sex_male','Embarked_S'],axis = 1)"
   ]
  },
  {
   "cell_type": "code",
   "execution_count": 108,
   "id": "02b60270",
   "metadata": {},
   "outputs": [
    {
     "data": {
      "text/plain": [
       "<AxesSubplot:title={'center':'Feature-correlation (pearson)'}>"
      ]
     },
     "execution_count": 108,
     "metadata": {},
     "output_type": "execute_result"
    },
    {
     "data": {
      "image/png": "[encoded data removed]",
      "text/plain": [
       "<Figure size 864x720 with 2 Axes>"
      ]
     },
     "metadata": {
      "needs_background": "light"
     },
     "output_type": "display_data"
    }
   ],
   "source": [
    "klib.corr_plot(test_data)"
   ]
  },
  {
   "cell_type": "code",
   "execution_count": 30,
   "id": "d69e723c",
   "metadata": {},
   "outputs": [],
   "source": [
    "test_data = test_data.drop(['Sex_male','Embarked_S'],axis = 1)"
   ]
  },
  {
   "cell_type": "markdown",
   "id": "508f767b",
   "metadata": {},
   "source": [
    "## *-> Splitting the Dataset:*"
   ]
  },
  {
   "cell_type": "code",
   "execution_count": 31,
   "id": "7bb80813",
   "metadata": {},
   "outputs": [],
   "source": [
    "x = train_data.drop(['Survived'], axis = 1)\n",
    "y = train_data['Survived']"
   ]
  },
  {
   "cell_type": "code",
   "execution_count": 32,
   "id": "1a1d165e",
   "metadata": {},
   "outputs": [],
   "source": [
    "x_train, x_val, y_train, y_val = train_test_split(x, y, random_state = 42, test_size = 0.20)"
   ]
  },
  {
   "cell_type": "markdown",
   "id": "6fdf6013",
   "metadata": {},
   "source": [
    "### *-> Feature Scaling:*"
   ]
  },
  {
   "cell_type": "code",
   "execution_count": 33,
   "id": "ecf3af46",
   "metadata": {},
   "outputs": [],
   "source": [
    "scaler = StandardScaler()"
   ]
  },
  {
   "cell_type": "code",
   "execution_count": 34,
   "id": "b29e9673",
   "metadata": {},
   "outputs": [
    {
     "data": {
      "text/html": [
       "<div>\n",
       "<style scoped>\n",
       "    .dataframe tbody tr th:only-of-type {\n",
       "        vertical-align: middle;\n",
       "    }\n",
       "\n",
       "    .dataframe tbody tr th {\n",
       "        vertical-align: top;\n",
       "    }\n",
       "\n",
       "    .dataframe thead th {\n",
       "        text-align: right;\n",
       "    }\n",
       "</style>\n",
       "<table border=\"1\" class=\"dataframe\">\n",
       "  <thead>\n",
       "    <tr style=\"text-align: right;\">\n",
       "      <th></th>\n",
       "      <th>Pclass</th>\n",
       "      <th>Age</th>\n",
       "      <th>Fare</th>\n",
       "      <th>Familymembers_onboard</th>\n",
       "      <th>Sex_female</th>\n",
       "      <th>Embarked_C</th>\n",
       "      <th>Embarked_Q</th>\n",
       "    </tr>\n",
       "  </thead>\n",
       "  <tbody>\n",
       "    <tr>\n",
       "      <th>331</th>\n",
       "      <td>1</td>\n",
       "      <td>45.5</td>\n",
       "      <td>9.8250</td>\n",
       "      <td>0</td>\n",
       "      <td>0</td>\n",
       "      <td>0</td>\n",
       "      <td>0</td>\n",
       "    </tr>\n",
       "    <tr>\n",
       "      <th>733</th>\n",
       "      <td>2</td>\n",
       "      <td>23.0</td>\n",
       "      <td>51.8625</td>\n",
       "      <td>0</td>\n",
       "      <td>0</td>\n",
       "      <td>0</td>\n",
       "      <td>0</td>\n",
       "    </tr>\n",
       "    <tr>\n",
       "      <th>382</th>\n",
       "      <td>3</td>\n",
       "      <td>32.0</td>\n",
       "      <td>12.4750</td>\n",
       "      <td>0</td>\n",
       "      <td>0</td>\n",
       "      <td>0</td>\n",
       "      <td>0</td>\n",
       "    </tr>\n",
       "    <tr>\n",
       "      <th>704</th>\n",
       "      <td>3</td>\n",
       "      <td>26.0</td>\n",
       "      <td>39.0000</td>\n",
       "      <td>1</td>\n",
       "      <td>0</td>\n",
       "      <td>0</td>\n",
       "      <td>0</td>\n",
       "    </tr>\n",
       "    <tr>\n",
       "      <th>813</th>\n",
       "      <td>3</td>\n",
       "      <td>6.0</td>\n",
       "      <td>65.6344</td>\n",
       "      <td>6</td>\n",
       "      <td>1</td>\n",
       "      <td>0</td>\n",
       "      <td>0</td>\n",
       "    </tr>\n",
       "  </tbody>\n",
       "</table>\n",
       "</div>"
      ],
      "text/plain": [
       "     Pclass   Age     Fare  Familymembers_onboard  Sex_female  Embarked_C  \\\n",
       "331       1  45.5   9.8250                      0           0           0   \n",
       "733       2  23.0  51.8625                      0           0           0   \n",
       "382       3  32.0  12.4750                      0           0           0   \n",
       "704       3  26.0  39.0000                      1           0           0   \n",
       "813       3   6.0  65.6344                      6           1           0   \n",
       "\n",
       "     Embarked_Q  \n",
       "331           0  \n",
       "733           0  \n",
       "382           0  \n",
       "704           0  \n",
       "813           0  "
      ]
     },
     "execution_count": 34,
     "metadata": {},
     "output_type": "execute_result"
    }
   ],
   "source": [
    "x_train.head()"
   ]
  },
  {
   "cell_type": "code",
   "execution_count": 35,
   "id": "31565c29",
   "metadata": {},
   "outputs": [],
   "source": [
    "#Fitting the scaler to the train data:\n",
    "x_train1 = scaler.fit_transform(x_train[['Age','Fare','Familymembers_onboard','Pclass']])\n",
    "x_train1 = pd.DataFrame(x_train1, columns = ['Age','Fare','Familymembers_onboard','Pclass'])\n",
    "\n",
    "#creating a new dataframe:\n",
    "x_train_new = x_train[['Sex_female','Embarked_Q','Embarked_C']].reset_index()"
   ]
  },
  {
   "cell_type": "code",
   "execution_count": 36,
   "id": "5bb671d2",
   "metadata": {},
   "outputs": [],
   "source": [
    "x_train_new[['Age','Fare','Familymembers_onboard','Pclass']] = x_train1[['Age','Fare','Familymembers_onboard','Pclass']]\n",
    "x_train_new = pd.DataFrame(x_train_new)"
   ]
  },
  {
   "cell_type": "code",
   "execution_count": 37,
   "id": "3bf3829c",
   "metadata": {},
   "outputs": [],
   "source": [
    "# Scaling w.r.t test data :\n",
    "x_val1 = scaler.transform(x_val[['Age','Fare','Familymembers_onboard','Pclass']])\n",
    "x_val1 = pd.DataFrame(x_val1, columns = ['Age','Fare','Familymembers_onboard','Pclass'])\n",
    "\n",
    "#creating a new dataframe:\n",
    "x_val_new = x_val[['Sex_female','Embarked_Q','Embarked_C']].reset_index()"
   ]
  },
  {
   "cell_type": "code",
   "execution_count": 38,
   "id": "0c97cfe2",
   "metadata": {},
   "outputs": [],
   "source": [
    "x_val_new[['Age','Fare','Familymembers_onboard','Pclass']] = x_val1[['Age','Fare','Familymembers_onboard','Pclass']]\n",
    "x_val_new = pd.DataFrame(x_val_new)\n",
    "x_val = x_val_new"
   ]
  },
  {
   "cell_type": "markdown",
   "id": "057027e5",
   "metadata": {},
   "source": [
    "## -> *Balancing the Dataset:*"
   ]
  },
  {
   "cell_type": "markdown",
   "id": "3554b213",
   "metadata": {},
   "source": [
    "*SMOTE stands for Synthetic Minority Oversampling Technique, is an oversampling technique that creates synthetic minority class data points to balance the dataset.It uses k-nearest neighbor algorithm to create synthetic data points.*"
   ]
  },
  {
   "cell_type": "code",
   "execution_count": 39,
   "id": "8b2da6d3",
   "metadata": {},
   "outputs": [
    {
     "data": {
      "text/plain": [
       "331    0\n",
       "733    0\n",
       "382    0\n",
       "704    0\n",
       "813    0\n",
       "Name: Survived, dtype: int64"
      ]
     },
     "execution_count": 39,
     "metadata": {},
     "output_type": "execute_result"
    }
   ],
   "source": [
    "y_train.head()"
   ]
  },
  {
   "cell_type": "code",
   "execution_count": 40,
   "id": "cc406a0a",
   "metadata": {},
   "outputs": [
    {
     "data": {
      "text/html": [
       "<div>\n",
       "<style scoped>\n",
       "    .dataframe tbody tr th:only-of-type {\n",
       "        vertical-align: middle;\n",
       "    }\n",
       "\n",
       "    .dataframe tbody tr th {\n",
       "        vertical-align: top;\n",
       "    }\n",
       "\n",
       "    .dataframe thead th {\n",
       "        text-align: right;\n",
       "    }\n",
       "</style>\n",
       "<table border=\"1\" class=\"dataframe\">\n",
       "  <thead>\n",
       "    <tr style=\"text-align: right;\">\n",
       "      <th></th>\n",
       "      <th>index</th>\n",
       "      <th>Sex_female</th>\n",
       "      <th>Embarked_Q</th>\n",
       "      <th>Embarked_C</th>\n",
       "      <th>Age</th>\n",
       "      <th>Fare</th>\n",
       "      <th>Familymembers_onboard</th>\n",
       "      <th>Pclass</th>\n",
       "    </tr>\n",
       "  </thead>\n",
       "  <tbody>\n",
       "    <tr>\n",
       "      <th>0</th>\n",
       "      <td>331</td>\n",
       "      <td>0</td>\n",
       "      <td>0</td>\n",
       "      <td>0</td>\n",
       "      <td>1.295529</td>\n",
       "      <td>-0.704885</td>\n",
       "      <td>-0.554666</td>\n",
       "      <td>-1.614136</td>\n",
       "    </tr>\n",
       "    <tr>\n",
       "      <th>1</th>\n",
       "      <td>733</td>\n",
       "      <td>0</td>\n",
       "      <td>0</td>\n",
       "      <td>0</td>\n",
       "      <td>-0.446610</td>\n",
       "      <td>1.365441</td>\n",
       "      <td>-0.554666</td>\n",
       "      <td>-0.400551</td>\n",
       "    </tr>\n",
       "    <tr>\n",
       "      <th>2</th>\n",
       "      <td>382</td>\n",
       "      <td>0</td>\n",
       "      <td>0</td>\n",
       "      <td>0</td>\n",
       "      <td>0.250246</td>\n",
       "      <td>-0.574374</td>\n",
       "      <td>-0.554666</td>\n",
       "      <td>0.813034</td>\n",
       "    </tr>\n",
       "    <tr>\n",
       "      <th>3</th>\n",
       "      <td>704</td>\n",
       "      <td>0</td>\n",
       "      <td>0</td>\n",
       "      <td>0</td>\n",
       "      <td>-0.214324</td>\n",
       "      <td>0.731969</td>\n",
       "      <td>0.040096</td>\n",
       "      <td>0.813034</td>\n",
       "    </tr>\n",
       "    <tr>\n",
       "      <th>4</th>\n",
       "      <td>813</td>\n",
       "      <td>1</td>\n",
       "      <td>0</td>\n",
       "      <td>0</td>\n",
       "      <td>-1.762893</td>\n",
       "      <td>2.043700</td>\n",
       "      <td>3.013909</td>\n",
       "      <td>0.813034</td>\n",
       "    </tr>\n",
       "  </tbody>\n",
       "</table>\n",
       "</div>"
      ],
      "text/plain": [
       "   index  Sex_female  Embarked_Q  Embarked_C       Age      Fare  \\\n",
       "0    331           0           0           0  1.295529 -0.704885   \n",
       "1    733           0           0           0 -0.446610  1.365441   \n",
       "2    382           0           0           0  0.250246 -0.574374   \n",
       "3    704           0           0           0 -0.214324  0.731969   \n",
       "4    813           1           0           0 -1.762893  2.043700   \n",
       "\n",
       "   Familymembers_onboard    Pclass  \n",
       "0              -0.554666 -1.614136  \n",
       "1              -0.554666 -0.400551  \n",
       "2              -0.554666  0.813034  \n",
       "3               0.040096  0.813034  \n",
       "4               3.013909  0.813034  "
      ]
     },
     "execution_count": 40,
     "metadata": {},
     "output_type": "execute_result"
    }
   ],
   "source": [
    "x_train_new.head()"
   ]
  },
  {
   "cell_type": "code",
   "execution_count": 75,
   "id": "ff98d7e0",
   "metadata": {},
   "outputs": [
    {
     "name": "stdout",
     "output_type": "stream",
     "text": [
      "The value Counts of the target class is :\n",
      "Counter({0: 444, 1: 268})\n"
     ]
    }
   ],
   "source": [
    "print(\"The value Counts of the target class is :\")\n",
    "v = Counter(y_train)\n",
    "print(v)"
   ]
  },
  {
   "cell_type": "code",
   "execution_count": 76,
   "id": "38c8abb5",
   "metadata": {},
   "outputs": [
    {
     "name": "stdout",
     "output_type": "stream",
     "text": [
      "After Balancing the data: Counter({0: 444, 1: 444})\n"
     ]
    }
   ],
   "source": [
    "smt = SMOTE()\n",
    "x_train ,y_train = smt.fit_resample(x_train_new, y_train)\n",
    "print(\"After Balancing the data:\", Counter(y_train))"
   ]
  },
  {
   "cell_type": "code",
   "execution_count": 77,
   "id": "92104088",
   "metadata": {},
   "outputs": [],
   "source": [
    "#Assigning it to a new variable:\n",
    "x_train = x_train[['Pclass','Sex_female','Embarked_Q','Embarked_C','Age','Fare','Familymembers_onboard']]\n",
    "x_val = x_val[['Pclass','Sex_female','Embarked_Q','Embarked_C','Age','Fare','Familymembers_onboard']]"
   ]
  },
  {
   "cell_type": "markdown",
   "id": "b99fb658",
   "metadata": {},
   "source": [
    "## 4). Model Building :"
   ]
  },
  {
   "cell_type": "markdown",
   "id": "736f50b3",
   "metadata": {},
   "source": [
    "***We will now use LazyPredict package which help us in camparing different algorithms for the dataset under consideration, after which the best performing algorithm is to be chosen.***"
   ]
  },
  {
   "cell_type": "code",
   "execution_count": 79,
   "id": "81415463",
   "metadata": {},
   "outputs": [
    {
     "ename": "ModuleNotFoundError",
     "evalue": "No module named 'sklearn.utils.testing'",
     "output_type": "error",
     "traceback": [
      "\u001b[1;31m---------------------------------------------------------------------------\u001b[0m",
      "\u001b[1;31mModuleNotFoundError\u001b[0m                       Traceback (most recent call last)",
      "\u001b[1;32m~\\AppData\\Local\\Temp/ipykernel_1316/1526762189.py\u001b[0m in \u001b[0;36m<module>\u001b[1;34m\u001b[0m\n\u001b[0;32m      1\u001b[0m \u001b[1;31m#warnings.filterwarnings(\"ignore\")\u001b[0m\u001b[1;33m\u001b[0m\u001b[1;33m\u001b[0m\u001b[1;33m\u001b[0m\u001b[0m\n\u001b[1;32m----> 2\u001b[1;33m \u001b[1;32mfrom\u001b[0m \u001b[0mlazypredict\u001b[0m\u001b[1;33m.\u001b[0m\u001b[0mSupervised\u001b[0m \u001b[1;32mimport\u001b[0m \u001b[0mLazyClassifier\u001b[0m\u001b[1;33m\u001b[0m\u001b[1;33m\u001b[0m\u001b[0m\n\u001b[0m\u001b[0;32m      3\u001b[0m \u001b[0mclf\u001b[0m \u001b[1;33m=\u001b[0m \u001b[0mLazyClassifier\u001b[0m\u001b[1;33m(\u001b[0m\u001b[0mpredictions\u001b[0m\u001b[1;33m=\u001b[0m\u001b[1;32mTrue\u001b[0m\u001b[1;33m,\u001b[0m \u001b[0mrandom_state\u001b[0m \u001b[1;33m=\u001b[0m \u001b[1;36m42\u001b[0m\u001b[1;33m)\u001b[0m\u001b[1;33m\u001b[0m\u001b[1;33m\u001b[0m\u001b[0m\n\u001b[0;32m      4\u001b[0m \u001b[0mmodels\u001b[0m\u001b[1;33m,\u001b[0m \u001b[0mpredictions\u001b[0m \u001b[1;33m=\u001b[0m \u001b[0mclf\u001b[0m\u001b[1;33m.\u001b[0m\u001b[0mfit\u001b[0m\u001b[1;33m(\u001b[0m\u001b[0mx_train\u001b[0m\u001b[1;33m,\u001b[0m \u001b[0mx_val\u001b[0m\u001b[1;33m,\u001b[0m \u001b[0my_train\u001b[0m\u001b[1;33m,\u001b[0m \u001b[0my_val\u001b[0m\u001b[1;33m)\u001b[0m\u001b[1;33m\u001b[0m\u001b[1;33m\u001b[0m\u001b[0m\n\u001b[0;32m      5\u001b[0m \u001b[0mmodels\u001b[0m\u001b[1;33m\u001b[0m\u001b[1;33m\u001b[0m\u001b[0m\n",
      "\u001b[1;32mc:\\users\\user\\appdata\\local\\programs\\python\\python39\\lib\\site-packages\\lazypredict\\Supervised.py\u001b[0m in \u001b[0;36m<module>\u001b[1;34m\u001b[0m\n\u001b[0;32m     14\u001b[0m \u001b[1;32mfrom\u001b[0m \u001b[0msklearn\u001b[0m\u001b[1;33m.\u001b[0m\u001b[0mpreprocessing\u001b[0m \u001b[1;32mimport\u001b[0m \u001b[0mStandardScaler\u001b[0m\u001b[1;33m,\u001b[0m \u001b[0mOneHotEncoder\u001b[0m\u001b[1;33m\u001b[0m\u001b[1;33m\u001b[0m\u001b[0m\n\u001b[0;32m     15\u001b[0m \u001b[1;32mfrom\u001b[0m \u001b[0msklearn\u001b[0m\u001b[1;33m.\u001b[0m\u001b[0mcompose\u001b[0m \u001b[1;32mimport\u001b[0m \u001b[0mColumnTransformer\u001b[0m\u001b[1;33m\u001b[0m\u001b[1;33m\u001b[0m\u001b[0m\n\u001b[1;32m---> 16\u001b[1;33m \u001b[1;32mfrom\u001b[0m \u001b[0msklearn\u001b[0m\u001b[1;33m.\u001b[0m\u001b[0mutils\u001b[0m\u001b[1;33m.\u001b[0m\u001b[0mtesting\u001b[0m \u001b[1;32mimport\u001b[0m \u001b[0mall_estimators\u001b[0m\u001b[1;33m\u001b[0m\u001b[1;33m\u001b[0m\u001b[0m\n\u001b[0m\u001b[0;32m     17\u001b[0m \u001b[1;32mfrom\u001b[0m \u001b[0msklearn\u001b[0m\u001b[1;33m.\u001b[0m\u001b[0mbase\u001b[0m \u001b[1;32mimport\u001b[0m \u001b[0mRegressorMixin\u001b[0m\u001b[1;33m\u001b[0m\u001b[1;33m\u001b[0m\u001b[0m\n\u001b[0;32m     18\u001b[0m \u001b[1;32mfrom\u001b[0m \u001b[0msklearn\u001b[0m\u001b[1;33m.\u001b[0m\u001b[0mbase\u001b[0m \u001b[1;32mimport\u001b[0m \u001b[0mClassifierMixin\u001b[0m\u001b[1;33m\u001b[0m\u001b[1;33m\u001b[0m\u001b[0m\n",
      "\u001b[1;31mModuleNotFoundError\u001b[0m: No module named 'sklearn.utils.testing'"
     ]
    }
   ],
   "source": [
    "#warnings.filterwarnings(\"ignore\")\n",
    "from lazypredict.Supervised import LazyClassifier\n",
    "clf = LazyClassifier(predictions=True, random_state = 42)\n",
    "models, predictions = clf.fit(x_train, x_val, y_train, y_val)\n",
    "models"
   ]
  },
  {
   "cell_type": "markdown",
   "id": "94769bf1",
   "metadata": {},
   "source": [
    "***Clearly, from the above table, we observe that AdaBooster is the best algorithm to be considered. Therefore we will now tune the parameters for AdaBooster.***"
   ]
  },
  {
   "cell_type": "markdown",
   "id": "174154dc",
   "metadata": {},
   "source": [
    "## -> Hyper Parameter Tuning of AdaBoost:"
   ]
  },
  {
   "cell_type": "code",
   "execution_count": 90,
   "id": "5383b33e",
   "metadata": {},
   "outputs": [],
   "source": [
    "model = AdaBoostClassifier()\n",
    "param = {'n_estimators':[10,50,100,500],\n",
    "         'learning_rate': [0.0001, 0.001, 0.01, 0.1, 1.0]}"
   ]
  },
  {
   "cell_type": "code",
   "execution_count": 91,
   "id": "d3f04334",
   "metadata": {},
   "outputs": [
    {
     "name": "stdout",
     "output_type": "stream",
     "text": [
      "The Best parameters will be : {'learning_rate': 1.0, 'n_estimators': 100}\n"
     ]
    }
   ],
   "source": [
    "grid_search = GridSearchCV(estimator = model, param_grid = param, cv = 10, n_jobs = -1)\n",
    "grid_result = grid_search.fit(x_train,y_train)\n",
    "print(\"The Best parameters will be :\",\n",
    "      grid_result.best_params_)"
   ]
  },
  {
   "cell_type": "markdown",
   "id": "e80adb3d",
   "metadata": {},
   "source": [
    "## -> Applying the updated Algorithm:"
   ]
  },
  {
   "cell_type": "code",
   "execution_count": 92,
   "id": "cf061f87",
   "metadata": {},
   "outputs": [
    {
     "name": "stdout",
     "output_type": "stream",
     "text": [
      "The Accuracy of AdaBoost Classifier with respect to TRAINING data : 0.8536036036036037\n",
      "The F1 Score of AdaBoost Classifier with respect to TRAINING data : 0.8532731376975168\n",
      "The Accuracy of AdaBoost Classifier with respect to TESTING data : 0.8100558659217877\n",
      "The F1 Score of AdaBoost Classifier with respect to TESTING data : 0.7702702702702703\n"
     ]
    }
   ],
   "source": [
    "# Applying the tuned algorithm to train and checking for the performance.\n",
    "model1 = grid_result.predict(x_train)\n",
    "accu_train = sklearn.metrics.accuracy_score(y_train, model1)\n",
    "f1_train = sklearn.metrics.f1_score(y_train, model1)\n",
    "\n",
    "# Applying the tuned algorithm to test data and checking for the performance.\n",
    "model2 = grid_result.predict(x_val)\n",
    "accu_test = sklearn.metrics.accuracy_score(y_val, model2)\n",
    "f1_test = sklearn.metrics.f1_score(y_val, model2)\n",
    "\n",
    "print(\"The Accuracy of AdaBoost Classifier with respect to TRAINING data :\",accu_train)\n",
    "print(\"The F1 Score of AdaBoost Classifier with respect to TRAINING data :\",f1_train)\n",
    "print(\"The Accuracy of AdaBoost Classifier with respect to TESTING data :\",accu_test)\n",
    "print(\"The F1 Score of AdaBoost Classifier with respect to TESTING data :\",f1_test)"
   ]
  },
  {
   "cell_type": "markdown",
   "id": "9af4345e",
   "metadata": {},
   "source": [
    "***Here we can clearly observe that our performace of our model is comparitively decreased after tuning the parameters.Therefore we will now use the default parameters as it will help us build a generalized model.***"
   ]
  },
  {
   "cell_type": "markdown",
   "id": "4c7a2546",
   "metadata": {},
   "source": [
    "## -> Applying the Default Agorithm:"
   ]
  },
  {
   "cell_type": "code",
   "execution_count": 93,
   "id": "f4376129",
   "metadata": {},
   "outputs": [
    {
     "name": "stdout",
     "output_type": "stream",
     "text": [
      "The mean Accuracy Score after Cross-validation is: 0.8279040404040405\n"
     ]
    }
   ],
   "source": [
    "ada_clf = AdaBoostClassifier()\n",
    "ada_clf.fit(x_train, y_train)\n",
    "print(\"The mean Accuracy Score after Cross-validation is:\",\n",
    "     cross_val_score(ada_clf, x_train, y_train, cv = 20, scoring = 'accuracy').mean())"
   ]
  },
  {
   "cell_type": "code",
   "execution_count": 94,
   "id": "c7e0c6c3",
   "metadata": {},
   "outputs": [
    {
     "name": "stdout",
     "output_type": "stream",
     "text": [
      "The Accuracy of AdaBoost Classifier with respect to TRAINING data : 0.8490990990990991\n",
      "The F1 Score of AdaBoost Classifier with respect to TRAINING data : 0.8490990990990991\n",
      "The Accuracy of AdaBoost Classifier with respect to TESTING data : 0.8212290502793296\n",
      "The F1 Score of AdaBoost Classifier with respect to TESTING data : 0.7866666666666666\n"
     ]
    }
   ],
   "source": [
    "# Appling the model for test and train data :\n",
    "ada_clf_train = ada_clf.predict(x_train)\n",
    "ada_clf_test = ada_clf.predict(x_val)\n",
    "\n",
    "acc_score_train = sklearn.metrics.accuracy_score(y_train,ada_clf_train)\n",
    "f1_score_train = sklearn.metrics.f1_score(y_train, ada_clf_train)\n",
    "acc_score_test = sklearn.metrics.accuracy_score(y_val,ada_clf_test)\n",
    "f1_score_test = sklearn.metrics.f1_score(y_val, ada_clf_test)\n",
    "\n",
    "print(\"The Accuracy of AdaBoost Classifier with respect to TRAINING data :\",acc_score_train)\n",
    "print(\"The F1 Score of AdaBoost Classifier with respect to TRAINING data :\",f1_score_train)\n",
    "print(\"The Accuracy of AdaBoost Classifier with respect to TESTING data :\",acc_score_test)\n",
    "print(\"The F1 Score of AdaBoost Classifier with respect to TESTING data :\",f1_score_test)"
   ]
  },
  {
   "cell_type": "markdown",
   "id": "6edc714c",
   "metadata": {},
   "source": [
    "## 5). Interpretation:"
   ]
  },
  {
   "cell_type": "markdown",
   "id": "2d053949",
   "metadata": {},
   "source": [
    "***After employing many different algorithms on this dataset, we finally choose AdaBoostClassifier as our predictive model thereby predicting which passengers survived the shipwreck.***"
   ]
  },
  {
   "cell_type": "markdown",
   "id": "27d1d781",
   "metadata": {},
   "source": [
    "### -> Appling the model to the test dataset:"
   ]
  },
  {
   "cell_type": "code",
   "execution_count": 50,
   "id": "82be408b",
   "metadata": {},
   "outputs": [],
   "source": [
    "xtest = test_data\n",
    "a = ada_clf.predict(xtest)"
   ]
  }
 ],
 "metadata": {
  "kernelspec": {
   "display_name": "Python 3",
   "language": "python",
   "name": "python3"
  },
  "language_info": {
   "codemirror_mode": {
    "name": "ipython",
    "version": 3
   },
   "file_extension": ".py",
   "mimetype": "text/x-python",
   "name": "python",
   "nbconvert_exporter": "python",
   "pygments_lexer": "ipython3",
   "version": "3.8.8"
  }
 },
 "nbformat": 4,
 "nbformat_minor": 5
}
